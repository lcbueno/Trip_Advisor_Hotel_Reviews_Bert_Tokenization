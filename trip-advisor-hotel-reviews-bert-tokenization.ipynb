{
 "cells": [
  {
   "cell_type": "markdown",
   "id": "c349ac65",
   "metadata": {
    "papermill": {
     "duration": 0.041014,
     "end_time": "2021-11-29T16:44:35.573186",
     "exception": false,
     "start_time": "2021-11-29T16:44:35.532172",
     "status": "completed"
    },
    "tags": []
   },
   "source": [
    "# **Description**\n",
    "\n",
    "# Abstract\n",
    "\n",
    "Explore Hotel aspects and Predict the rating of each review.\n",
    "\n",
    "# About this dataset\n",
    "\n",
    "Hotels play a crucial role in traveling and with the increased access to information new pathways of selecting the best ones emerged.\n",
    "With this dataset, consisting of 20k reviews crawled from Tripadvisor, you can explore what makes a great hotel and maybe even use this model in your travels!\n",
    "\n",
    "# How to use\n",
    "\n",
    "Predict Review Rating\n",
    "Topic Modeling on Reviews\n",
    "Explore key aspects that make hotels good or bad\n",
    "Acknowledgements\n",
    "If you use this dataset in your research, please credit the authors.\n",
    "\n",
    "# Citation\n",
    "\n",
    "Alam, M. H., Ryu, W.-J., Lee, S., 2016. Joint multi-grain topic sentiment: modeling semantic aspects for online reviews. Information Sciences 339, 206–223.\n",
    "DOI\n",
    "\n",
    "# License\n",
    "\n",
    "CC BY NC 4.0\n",
    "\n",
    "# Splash banner\n",
    "\n",
    "Photo by Rhema Kallianpur on Unsplash.\n",
    "\n",
    "# Splash icon\n",
    "\n",
    "Logo by Tripadvisor."
   ]
  },
  {
   "cell_type": "markdown",
   "id": "7b758dca",
   "metadata": {
    "papermill": {
     "duration": 0.043319,
     "end_time": "2021-11-29T16:44:35.658949",
     "exception": false,
     "start_time": "2021-11-29T16:44:35.615630",
     "status": "completed"
    },
    "tags": []
   },
   "source": [
    "# Importing Libraries"
   ]
  },
  {
   "cell_type": "code",
   "execution_count": 1,
   "id": "18eac892",
   "metadata": {
    "execution": {
     "iopub.execute_input": "2021-11-29T16:44:35.750003Z",
     "iopub.status.busy": "2021-11-29T16:44:35.749173Z",
     "iopub.status.idle": "2021-11-29T16:44:49.733850Z",
     "shell.execute_reply": "2021-11-29T16:44:49.733160Z",
     "shell.execute_reply.started": "2021-11-29T16:37:49.718862Z"
    },
    "papermill": {
     "duration": 14.034367,
     "end_time": "2021-11-29T16:44:49.733995",
     "exception": false,
     "start_time": "2021-11-29T16:44:35.699628",
     "status": "completed"
    },
    "tags": []
   },
   "outputs": [
    {
     "name": "stdout",
     "output_type": "stream",
     "text": [
      "Collecting bert-for-tf2\r\n",
      "  Downloading bert-for-tf2-0.14.9.tar.gz (41 kB)\r\n",
      "\u001b[K     |████████████████████████████████| 41 kB 123 kB/s \r\n",
      "\u001b[?25hCollecting py-params>=0.9.6\r\n",
      "  Downloading py-params-0.10.2.tar.gz (7.4 kB)\r\n",
      "Collecting params-flow>=0.8.0\r\n",
      "  Downloading params-flow-0.8.2.tar.gz (22 kB)\r\n",
      "Requirement already satisfied: numpy in /opt/conda/lib/python3.7/site-packages (from params-flow>=0.8.0->bert-for-tf2) (1.19.5)\r\n",
      "Requirement already satisfied: tqdm in /opt/conda/lib/python3.7/site-packages (from params-flow>=0.8.0->bert-for-tf2) (4.62.3)\r\n",
      "Building wheels for collected packages: bert-for-tf2, params-flow, py-params\r\n",
      "  Building wheel for bert-for-tf2 (setup.py) ... \u001b[?25l-\b \b\\\b \bdone\r\n",
      "\u001b[?25h  Created wheel for bert-for-tf2: filename=bert_for_tf2-0.14.9-py3-none-any.whl size=30534 sha256=667ef90c321f2bc20a97979a714727a948e8ffcf658270dace8ccc4f09964345\r\n",
      "  Stored in directory: /root/.cache/pip/wheels/47/b6/e5/8c76ec779f54bc5c2f1b57d2200bb9c77616da83873e8acb53\r\n",
      "  Building wheel for params-flow (setup.py) ... \u001b[?25l-\b \b\\\b \bdone\r\n",
      "\u001b[?25h  Created wheel for params-flow: filename=params_flow-0.8.2-py3-none-any.whl size=19473 sha256=48a7e065f6940bcd47e8e89007014c798c32d441d0bd041c01cd2b0d7c23436a\r\n",
      "  Stored in directory: /root/.cache/pip/wheels/0e/fc/d2/a44fff33af0f233d7def6e7de413006d57c10e10ad736fe8f5\r\n",
      "  Building wheel for py-params (setup.py) ... \u001b[?25l-\b \bdone\r\n",
      "\u001b[?25h  Created wheel for py-params: filename=py_params-0.10.2-py3-none-any.whl size=7912 sha256=7f3f342a483db35f759ca81c465b59fbb65e76f67bfdd3256822b7ced0413846\r\n",
      "  Stored in directory: /root/.cache/pip/wheels/e1/11/67/33cc51bbee127cb8fb2ba549cd29109b2f22da43ddf9969716\r\n",
      "Successfully built bert-for-tf2 params-flow py-params\r\n",
      "Installing collected packages: py-params, params-flow, bert-for-tf2\r\n",
      "Successfully installed bert-for-tf2-0.14.9 params-flow-0.8.2 py-params-0.10.2\r\n",
      "\u001b[33mWARNING: Running pip as the 'root' user can result in broken permissions and conflicting behaviour with the system package manager. It is recommended to use a virtual environment instead: https://pip.pypa.io/warnings/venv\u001b[0m\r\n"
     ]
    }
   ],
   "source": [
    "!pip install bert-for-tf2"
   ]
  },
  {
   "cell_type": "code",
   "execution_count": 2,
   "id": "be65a401",
   "metadata": {
    "execution": {
     "iopub.execute_input": "2021-11-29T16:44:49.829978Z",
     "iopub.status.busy": "2021-11-29T16:44:49.829179Z",
     "iopub.status.idle": "2021-11-29T16:45:01.973961Z",
     "shell.execute_reply": "2021-11-29T16:45:01.973181Z",
     "shell.execute_reply.started": "2021-11-29T16:37:57.554115Z"
    },
    "papermill": {
     "duration": 12.194704,
     "end_time": "2021-11-29T16:45:01.974105",
     "exception": false,
     "start_time": "2021-11-29T16:44:49.779401",
     "status": "completed"
    },
    "tags": []
   },
   "outputs": [],
   "source": [
    "import numpy as np\n",
    "import math\n",
    "import re\n",
    "import pandas as pd\n",
    "from bs4 import BeautifulSoup\n",
    "import random\n",
    "import seaborn as sns\n",
    "import matplotlib.pyplot as plt\n",
    "import tensorflow as tf\n",
    "import tensorflow_hub as hub\n",
    "from tensorflow.keras import layers\n",
    "import bert\n",
    "import plotly.express as px\n",
    "from wordcloud import WordCloud\n",
    "from sklearn.model_selection import train_test_split\n",
    "import spacy"
   ]
  },
  {
   "cell_type": "markdown",
   "id": "4a162ff9",
   "metadata": {
    "papermill": {
     "duration": 0.04426,
     "end_time": "2021-11-29T16:45:02.062792",
     "exception": false,
     "start_time": "2021-11-29T16:45:02.018532",
     "status": "completed"
    },
    "tags": []
   },
   "source": [
    "# Analyzing the Data"
   ]
  },
  {
   "cell_type": "code",
   "execution_count": 3,
   "id": "17b27148",
   "metadata": {
    "execution": {
     "iopub.execute_input": "2021-11-29T16:45:02.204825Z",
     "iopub.status.busy": "2021-11-29T16:45:02.204288Z",
     "iopub.status.idle": "2021-11-29T16:45:02.659577Z",
     "shell.execute_reply": "2021-11-29T16:45:02.660027Z",
     "shell.execute_reply.started": "2021-11-29T16:37:57.562570Z"
    },
    "papermill": {
     "duration": 0.552959,
     "end_time": "2021-11-29T16:45:02.660189",
     "exception": false,
     "start_time": "2021-11-29T16:45:02.107230",
     "status": "completed"
    },
    "tags": []
   },
   "outputs": [
    {
     "data": {
      "text/html": [
       "<div>\n",
       "<style scoped>\n",
       "    .dataframe tbody tr th:only-of-type {\n",
       "        vertical-align: middle;\n",
       "    }\n",
       "\n",
       "    .dataframe tbody tr th {\n",
       "        vertical-align: top;\n",
       "    }\n",
       "\n",
       "    .dataframe thead th {\n",
       "        text-align: right;\n",
       "    }\n",
       "</style>\n",
       "<table border=\"1\" class=\"dataframe\">\n",
       "  <thead>\n",
       "    <tr style=\"text-align: right;\">\n",
       "      <th></th>\n",
       "      <th>Review</th>\n",
       "      <th>Rating</th>\n",
       "    </tr>\n",
       "  </thead>\n",
       "  <tbody>\n",
       "    <tr>\n",
       "      <th>0</th>\n",
       "      <td>nice hotel expensive parking got good deal sta...</td>\n",
       "      <td>4</td>\n",
       "    </tr>\n",
       "    <tr>\n",
       "      <th>1</th>\n",
       "      <td>ok nothing special charge diamond member hilto...</td>\n",
       "      <td>2</td>\n",
       "    </tr>\n",
       "    <tr>\n",
       "      <th>2</th>\n",
       "      <td>nice rooms not 4* experience hotel monaco seat...</td>\n",
       "      <td>3</td>\n",
       "    </tr>\n",
       "    <tr>\n",
       "      <th>3</th>\n",
       "      <td>unique, great stay, wonderful time hotel monac...</td>\n",
       "      <td>5</td>\n",
       "    </tr>\n",
       "    <tr>\n",
       "      <th>4</th>\n",
       "      <td>great stay great stay, went seahawk game aweso...</td>\n",
       "      <td>5</td>\n",
       "    </tr>\n",
       "    <tr>\n",
       "      <th>...</th>\n",
       "      <td>...</td>\n",
       "      <td>...</td>\n",
       "    </tr>\n",
       "    <tr>\n",
       "      <th>20486</th>\n",
       "      <td>best kept secret 3rd time staying charm, not 5...</td>\n",
       "      <td>5</td>\n",
       "    </tr>\n",
       "    <tr>\n",
       "      <th>20487</th>\n",
       "      <td>great location price view hotel great quick pl...</td>\n",
       "      <td>4</td>\n",
       "    </tr>\n",
       "    <tr>\n",
       "      <th>20488</th>\n",
       "      <td>ok just looks nice modern outside, desk staff ...</td>\n",
       "      <td>2</td>\n",
       "    </tr>\n",
       "    <tr>\n",
       "      <th>20489</th>\n",
       "      <td>hotel theft ruined vacation hotel opened sept ...</td>\n",
       "      <td>1</td>\n",
       "    </tr>\n",
       "    <tr>\n",
       "      <th>20490</th>\n",
       "      <td>people talking, ca n't believe excellent ratin...</td>\n",
       "      <td>2</td>\n",
       "    </tr>\n",
       "  </tbody>\n",
       "</table>\n",
       "<p>20491 rows × 2 columns</p>\n",
       "</div>"
      ],
      "text/plain": [
       "                                                  Review  Rating\n",
       "0      nice hotel expensive parking got good deal sta...       4\n",
       "1      ok nothing special charge diamond member hilto...       2\n",
       "2      nice rooms not 4* experience hotel monaco seat...       3\n",
       "3      unique, great stay, wonderful time hotel monac...       5\n",
       "4      great stay great stay, went seahawk game aweso...       5\n",
       "...                                                  ...     ...\n",
       "20486  best kept secret 3rd time staying charm, not 5...       5\n",
       "20487  great location price view hotel great quick pl...       4\n",
       "20488  ok just looks nice modern outside, desk staff ...       2\n",
       "20489  hotel theft ruined vacation hotel opened sept ...       1\n",
       "20490  people talking, ca n't believe excellent ratin...       2\n",
       "\n",
       "[20491 rows x 2 columns]"
      ]
     },
     "execution_count": 3,
     "metadata": {},
     "output_type": "execute_result"
    }
   ],
   "source": [
    "data = pd.read_csv('../input/trip-advisor-hotel-reviews/tripadvisor_hotel_reviews.csv')\n",
    "data"
   ]
  },
  {
   "cell_type": "code",
   "execution_count": 4,
   "id": "ed73cf2c",
   "metadata": {
    "execution": {
     "iopub.execute_input": "2021-11-29T16:45:02.758378Z",
     "iopub.status.busy": "2021-11-29T16:45:02.757602Z",
     "iopub.status.idle": "2021-11-29T16:45:03.185272Z",
     "shell.execute_reply": "2021-11-29T16:45:03.185774Z",
     "shell.execute_reply.started": "2021-11-29T16:37:57.723606Z"
    },
    "papermill": {
     "duration": 0.480529,
     "end_time": "2021-11-29T16:45:03.185955",
     "exception": false,
     "start_time": "2021-11-29T16:45:02.705426",
     "status": "completed"
    },
    "tags": []
   },
   "outputs": [
    {
     "data": {
      "image/png": "[encoded data removed]",
      "text/plain": [
       "<Figure size 432x288 with 2 Axes>"
      ]
     },
     "metadata": {
      "needs_background": "light"
     },
     "output_type": "display_data"
    }
   ],
   "source": [
    "sns.heatmap(data.isnull());"
   ]
  },
  {
   "cell_type": "code",
   "execution_count": 5,
   "id": "9b3c2571",
   "metadata": {
    "execution": {
     "iopub.execute_input": "2021-11-29T16:45:03.291220Z",
     "iopub.status.busy": "2021-11-29T16:45:03.290504Z",
     "iopub.status.idle": "2021-11-29T16:45:03.352360Z",
     "shell.execute_reply": "2021-11-29T16:45:03.352831Z",
     "shell.execute_reply.started": "2021-11-29T16:37:58.813314Z"
    },
    "papermill": {
     "duration": 0.12163,
     "end_time": "2021-11-29T16:45:03.352981",
     "exception": false,
     "start_time": "2021-11-29T16:45:03.231351",
     "status": "completed"
    },
    "tags": []
   },
   "outputs": [
    {
     "data": {
      "text/html": [
       "<style type=\"text/css\">\n",
       "#T_9ecce_row0_col0 {\n",
       "  background-color: #7f2704;\n",
       "  color: #f1f1f1;\n",
       "}\n",
       "#T_9ecce_row1_col0, #T_9ecce_row2_col0, #T_9ecce_row3_col0, #T_9ecce_row4_col0, #T_9ecce_row5_col0, #T_9ecce_row6_col0, #T_9ecce_row7_col0 {\n",
       "  background-color: #fff5eb;\n",
       "  color: #000000;\n",
       "}\n",
       "</style>\n",
       "<table id=\"T_9ecce_\">\n",
       "  <thead>\n",
       "    <tr>\n",
       "      <th class=\"blank level0\" >&nbsp;</th>\n",
       "      <th class=\"col_heading level0 col0\" >Rating</th>\n",
       "    </tr>\n",
       "  </thead>\n",
       "  <tbody>\n",
       "    <tr>\n",
       "      <th id=\"T_9ecce_level0_row0\" class=\"row_heading level0 row0\" >count</th>\n",
       "      <td id=\"T_9ecce_row0_col0\" class=\"data row0 col0\" >20491.000000</td>\n",
       "    </tr>\n",
       "    <tr>\n",
       "      <th id=\"T_9ecce_level0_row1\" class=\"row_heading level0 row1\" >mean</th>\n",
       "      <td id=\"T_9ecce_row1_col0\" class=\"data row1 col0\" >3.952223</td>\n",
       "    </tr>\n",
       "    <tr>\n",
       "      <th id=\"T_9ecce_level0_row2\" class=\"row_heading level0 row2\" >std</th>\n",
       "      <td id=\"T_9ecce_row2_col0\" class=\"data row2 col0\" >1.233030</td>\n",
       "    </tr>\n",
       "    <tr>\n",
       "      <th id=\"T_9ecce_level0_row3\" class=\"row_heading level0 row3\" >min</th>\n",
       "      <td id=\"T_9ecce_row3_col0\" class=\"data row3 col0\" >1.000000</td>\n",
       "    </tr>\n",
       "    <tr>\n",
       "      <th id=\"T_9ecce_level0_row4\" class=\"row_heading level0 row4\" >25%</th>\n",
       "      <td id=\"T_9ecce_row4_col0\" class=\"data row4 col0\" >3.000000</td>\n",
       "    </tr>\n",
       "    <tr>\n",
       "      <th id=\"T_9ecce_level0_row5\" class=\"row_heading level0 row5\" >50%</th>\n",
       "      <td id=\"T_9ecce_row5_col0\" class=\"data row5 col0\" >4.000000</td>\n",
       "    </tr>\n",
       "    <tr>\n",
       "      <th id=\"T_9ecce_level0_row6\" class=\"row_heading level0 row6\" >75%</th>\n",
       "      <td id=\"T_9ecce_row6_col0\" class=\"data row6 col0\" >5.000000</td>\n",
       "    </tr>\n",
       "    <tr>\n",
       "      <th id=\"T_9ecce_level0_row7\" class=\"row_heading level0 row7\" >max</th>\n",
       "      <td id=\"T_9ecce_row7_col0\" class=\"data row7 col0\" >5.000000</td>\n",
       "    </tr>\n",
       "  </tbody>\n",
       "</table>\n"
      ],
      "text/plain": [
       "<pandas.io.formats.style.Styler at 0x7f140a6899d0>"
      ]
     },
     "execution_count": 5,
     "metadata": {},
     "output_type": "execute_result"
    }
   ],
   "source": [
    "temp = data.describe()\n",
    "temp.style.background_gradient(cmap='Oranges')"
   ]
  },
  {
   "cell_type": "code",
   "execution_count": 6,
   "id": "7413855d",
   "metadata": {
    "execution": {
     "iopub.execute_input": "2021-11-29T16:45:03.453206Z",
     "iopub.status.busy": "2021-11-29T16:45:03.452374Z",
     "iopub.status.idle": "2021-11-29T16:45:03.656790Z",
     "shell.execute_reply": "2021-11-29T16:45:03.656309Z",
     "shell.execute_reply.started": "2021-11-29T16:37:58.834200Z"
    },
    "papermill": {
     "duration": 0.257728,
     "end_time": "2021-11-29T16:45:03.656926",
     "exception": false,
     "start_time": "2021-11-29T16:45:03.399198",
     "status": "completed"
    },
    "tags": []
   },
   "outputs": [
    {
     "data": {
      "text/plain": [
       "(0.0, 9959.400000000001)"
      ]
     },
     "execution_count": 6,
     "metadata": {},
     "output_type": "execute_result"
    },
    {
     "data": {
      "image/png": "[encoded data removed]",
      "text/plain": [
       "<Figure size 864x360 with 1 Axes>"
      ]
     },
     "metadata": {
      "needs_background": "light"
     },
     "output_type": "display_data"
    }
   ],
   "source": [
    "total = len(data)\n",
    "ax1 = plt.figure(figsize=(12,5))\n",
    "\n",
    "g = sns.countplot(x='Rating', data=data)\n",
    "g.set_title(\"Evaluation\", fontsize=20)\n",
    "g.set_xlabel(\"Evaluation\", fontsize=17)\n",
    "g.set_ylabel(\"Values\", fontsize=17)\n",
    "sizes = []\n",
    "for p in g.patches:\n",
    "    height = p.get_height()\n",
    "    sizes.append(height)\n",
    "    g.text(p.get_x()+p.get_width()/2.,\n",
    "            height + 3,\n",
    "            '{:1.2f}%'.format(height/total*100),\n",
    "            ha=\"center\", fontsize=10) \n",
    "g.set_ylim(0, max(sizes) * 1.1)"
   ]
  },
  {
   "cell_type": "markdown",
   "id": "e7802a2b",
   "metadata": {
    "papermill": {
     "duration": 0.045913,
     "end_time": "2021-11-29T16:45:03.749597",
     "exception": false,
     "start_time": "2021-11-29T16:45:03.703684",
     "status": "completed"
    },
    "tags": []
   },
   "source": [
    "Now it will depend on the analysis of standards, based on the assessment scores what could be considered a negative assessment.\n",
    "\n",
    "Let's consider a score less than 2 will be negative, we can consider it to be below 50%."
   ]
  },
  {
   "cell_type": "code",
   "execution_count": 7,
   "id": "0265643a",
   "metadata": {
    "execution": {
     "iopub.execute_input": "2021-11-29T16:45:03.859079Z",
     "iopub.status.busy": "2021-11-29T16:45:03.858280Z",
     "iopub.status.idle": "2021-11-29T16:45:03.860347Z",
     "shell.execute_reply": "2021-11-29T16:45:03.860778Z",
     "shell.execute_reply.started": "2021-11-29T16:37:59.054070Z"
    },
    "papermill": {
     "duration": 0.064627,
     "end_time": "2021-11-29T16:45:03.860914",
     "exception": false,
     "start_time": "2021-11-29T16:45:03.796287",
     "status": "completed"
    },
    "tags": []
   },
   "outputs": [],
   "source": [
    "data['Rating'] = data['Rating'].apply(lambda x: 1 if x >= 2 else 0) "
   ]
  },
  {
   "cell_type": "code",
   "execution_count": 8,
   "id": "72eab308",
   "metadata": {
    "execution": {
     "iopub.execute_input": "2021-11-29T16:45:03.957867Z",
     "iopub.status.busy": "2021-11-29T16:45:03.957144Z",
     "iopub.status.idle": "2021-11-29T16:45:03.963055Z",
     "shell.execute_reply": "2021-11-29T16:45:03.962634Z",
     "shell.execute_reply.started": "2021-11-29T16:37:59.074677Z"
    },
    "papermill": {
     "duration": 0.056152,
     "end_time": "2021-11-29T16:45:03.963164",
     "exception": false,
     "start_time": "2021-11-29T16:45:03.907012",
     "status": "completed"
    },
    "tags": []
   },
   "outputs": [],
   "source": [
    "positive = data[data['Rating'] == 1 ]\n",
    "negative = data[data['Rating'] == 0]"
   ]
  },
  {
   "cell_type": "code",
   "execution_count": 9,
   "id": "f62f5a8b",
   "metadata": {
    "execution": {
     "iopub.execute_input": "2021-11-29T16:45:04.066119Z",
     "iopub.status.busy": "2021-11-29T16:45:04.065222Z",
     "iopub.status.idle": "2021-11-29T16:45:06.639581Z",
     "shell.execute_reply": "2021-11-29T16:45:06.640006Z",
     "shell.execute_reply.started": "2021-11-29T16:37:59.092192Z"
    },
    "papermill": {
     "duration": 2.629773,
     "end_time": "2021-11-29T16:45:06.640155",
     "exception": false,
     "start_time": "2021-11-29T16:45:04.010382",
     "status": "completed"
    },
    "tags": []
   },
   "outputs": [
    {
     "data": {
      "image/png": "[encoded data removed]",
      "text/plain": [
       "<Figure size 720x720 with 1 Axes>"
      ]
     },
     "metadata": {
      "needs_background": "light"
     },
     "output_type": "display_data"
    }
   ],
   "source": [
    "plt.rcParams['figure.figsize'] = (10, 10)\n",
    "plt.style.use('fast')\n",
    "\n",
    "wc = WordCloud(background_color = 'orange', width = 1500, height = 1500).generate(str(positive['Review']))\n",
    "plt.title('Description Positive', fontsize = 15)\n",
    "\n",
    "plt.imshow(wc)\n",
    "plt.axis('off')\n",
    "plt.show()"
   ]
  },
  {
   "cell_type": "code",
   "execution_count": 10,
   "id": "cafd6a28",
   "metadata": {
    "execution": {
     "iopub.execute_input": "2021-11-29T16:45:06.755855Z",
     "iopub.status.busy": "2021-11-29T16:45:06.754810Z",
     "iopub.status.idle": "2021-11-29T16:45:09.252754Z",
     "shell.execute_reply": "2021-11-29T16:45:09.253178Z",
     "shell.execute_reply.started": "2021-11-29T16:38:01.924461Z"
    },
    "papermill": {
     "duration": 2.559441,
     "end_time": "2021-11-29T16:45:09.253338",
     "exception": false,
     "start_time": "2021-11-29T16:45:06.693897",
     "status": "completed"
    },
    "tags": []
   },
   "outputs": [
    {
     "data": {
      "image/png": "[encoded data removed]",
      "text/plain": [
       "<Figure size 720x720 with 1 Axes>"
      ]
     },
     "metadata": {
      "needs_background": "light"
     },
     "output_type": "display_data"
    }
   ],
   "source": [
    "plt.rcParams['figure.figsize'] = (10, 10)\n",
    "plt.style.use('fast')\n",
    "\n",
    "wc = WordCloud(background_color = 'orange', width = 1500, height = 1500).generate(str(negative['Review']))\n",
    "plt.title('Description Negative', fontsize = 15)\n",
    "\n",
    "plt.imshow(wc)\n",
    "plt.axis('off')\n",
    "plt.show()"
   ]
  },
  {
   "cell_type": "code",
   "execution_count": 11,
   "id": "ff82bc43",
   "metadata": {
    "execution": {
     "iopub.execute_input": "2021-11-29T16:45:09.379811Z",
     "iopub.status.busy": "2021-11-29T16:45:09.379073Z",
     "iopub.status.idle": "2021-11-29T16:45:09.381971Z",
     "shell.execute_reply": "2021-11-29T16:45:09.382391Z",
     "shell.execute_reply.started": "2021-11-29T16:38:04.881801Z"
    },
    "papermill": {
     "duration": 0.070236,
     "end_time": "2021-11-29T16:45:09.382560",
     "exception": false,
     "start_time": "2021-11-29T16:45:09.312324",
     "status": "completed"
    },
    "tags": []
   },
   "outputs": [
    {
     "data": {
      "text/html": [
       "<div>\n",
       "<style scoped>\n",
       "    .dataframe tbody tr th:only-of-type {\n",
       "        vertical-align: middle;\n",
       "    }\n",
       "\n",
       "    .dataframe tbody tr th {\n",
       "        vertical-align: top;\n",
       "    }\n",
       "\n",
       "    .dataframe thead th {\n",
       "        text-align: right;\n",
       "    }\n",
       "</style>\n",
       "<table border=\"1\" class=\"dataframe\">\n",
       "  <thead>\n",
       "    <tr style=\"text-align: right;\">\n",
       "      <th></th>\n",
       "      <th>Review</th>\n",
       "      <th>Rating</th>\n",
       "    </tr>\n",
       "  </thead>\n",
       "  <tbody>\n",
       "    <tr>\n",
       "      <th>0</th>\n",
       "      <td>nice hotel expensive parking got good deal sta...</td>\n",
       "      <td>1</td>\n",
       "    </tr>\n",
       "    <tr>\n",
       "      <th>1</th>\n",
       "      <td>ok nothing special charge diamond member hilto...</td>\n",
       "      <td>1</td>\n",
       "    </tr>\n",
       "    <tr>\n",
       "      <th>2</th>\n",
       "      <td>nice rooms not 4* experience hotel monaco seat...</td>\n",
       "      <td>1</td>\n",
       "    </tr>\n",
       "    <tr>\n",
       "      <th>3</th>\n",
       "      <td>unique, great stay, wonderful time hotel monac...</td>\n",
       "      <td>1</td>\n",
       "    </tr>\n",
       "    <tr>\n",
       "      <th>4</th>\n",
       "      <td>great stay great stay, went seahawk game aweso...</td>\n",
       "      <td>1</td>\n",
       "    </tr>\n",
       "  </tbody>\n",
       "</table>\n",
       "</div>"
      ],
      "text/plain": [
       "                                              Review  Rating\n",
       "0  nice hotel expensive parking got good deal sta...       1\n",
       "1  ok nothing special charge diamond member hilto...       1\n",
       "2  nice rooms not 4* experience hotel monaco seat...       1\n",
       "3  unique, great stay, wonderful time hotel monac...       1\n",
       "4  great stay great stay, went seahawk game aweso...       1"
      ]
     },
     "execution_count": 11,
     "metadata": {},
     "output_type": "execute_result"
    }
   ],
   "source": [
    "data.head()"
   ]
  },
  {
   "cell_type": "markdown",
   "id": "65c97ead",
   "metadata": {
    "papermill": {
     "duration": 0.058181,
     "end_time": "2021-11-29T16:45:09.500577",
     "exception": false,
     "start_time": "2021-11-29T16:45:09.442396",
     "status": "completed"
    },
    "tags": []
   },
   "source": [
    "# Processing"
   ]
  },
  {
   "cell_type": "code",
   "execution_count": 12,
   "id": "63f981a5",
   "metadata": {
    "execution": {
     "iopub.execute_input": "2021-11-29T16:45:09.623410Z",
     "iopub.status.busy": "2021-11-29T16:45:09.622579Z",
     "iopub.status.idle": "2021-11-29T16:45:09.624620Z",
     "shell.execute_reply": "2021-11-29T16:45:09.625006Z",
     "shell.execute_reply.started": "2021-11-29T16:38:04.894592Z"
    },
    "papermill": {
     "duration": 0.066134,
     "end_time": "2021-11-29T16:45:09.625142",
     "exception": false,
     "start_time": "2021-11-29T16:45:09.559008",
     "status": "completed"
    },
    "tags": []
   },
   "outputs": [],
   "source": [
    "def clean_t(t):\n",
    "  t = BeautifulSoup(t, 'lxml').get_text()\n",
    "  t = re.sub(r\"@[A-Za-z0-9]+\", ' ', t)\n",
    "  t = re.sub(r\"https?://[A-Za-z0-9./]+\", ' ', t)\n",
    "  t = re.sub(r\"[^a-zA-Z.!?]\", ' ', t)\n",
    "  t = re.sub(r\" +\", ' ', t)\n",
    "  return t"
   ]
  },
  {
   "cell_type": "code",
   "execution_count": 13,
   "id": "bb5b4196",
   "metadata": {
    "execution": {
     "iopub.execute_input": "2021-11-29T16:45:09.747889Z",
     "iopub.status.busy": "2021-11-29T16:45:09.747208Z",
     "iopub.status.idle": "2021-11-29T16:45:09.749834Z",
     "shell.execute_reply": "2021-11-29T16:45:09.750286Z",
     "shell.execute_reply.started": "2021-11-29T16:38:04.904677Z"
    },
    "papermill": {
     "duration": 0.066908,
     "end_time": "2021-11-29T16:45:09.750419",
     "exception": false,
     "start_time": "2021-11-29T16:45:09.683511",
     "status": "completed"
    },
    "tags": []
   },
   "outputs": [
    {
     "data": {
      "text/plain": [
       "'99 nice hotel expensive parking got good deal stay hotel anniversary, arrived late evening took advice previous reviews did valet parking, check quick easy, little disappointed non-existent view room room clean nice size, bed comfortable woke stiff neck high pillows, not soundproof like heard music room night morning loud bangs doors opening closing hear people talking hallway, maybe just noisy neighbors, aveda bath products nice, did not goldfish stay nice touch taken advantage staying longer, location great walking distance shopping, overall nice experience having pay 40 parking night,  '"
      ]
     },
     "execution_count": 13,
     "metadata": {},
     "output_type": "execute_result"
    }
   ],
   "source": [
    "test = '99 ' + data.Review[0]\n",
    "test"
   ]
  },
  {
   "cell_type": "code",
   "execution_count": 14,
   "id": "d2fa779d",
   "metadata": {
    "execution": {
     "iopub.execute_input": "2021-11-29T16:45:09.876205Z",
     "iopub.status.busy": "2021-11-29T16:45:09.873157Z",
     "iopub.status.idle": "2021-11-29T16:45:09.882513Z",
     "shell.execute_reply": "2021-11-29T16:45:09.881950Z",
     "shell.execute_reply.started": "2021-11-29T16:38:04.918412Z"
    },
    "papermill": {
     "duration": 0.073646,
     "end_time": "2021-11-29T16:45:09.882643",
     "exception": false,
     "start_time": "2021-11-29T16:45:09.808997",
     "status": "completed"
    },
    "tags": []
   },
   "outputs": [
    {
     "data": {
      "text/plain": [
       "' nice hotel expensive parking got good deal stay hotel anniversary arrived late evening took advice previous reviews did valet parking check quick easy little disappointed non existent view room room clean nice size bed comfortable woke stiff neck high pillows not soundproof like heard music room night morning loud bangs doors opening closing hear people talking hallway maybe just noisy neighbors aveda bath products nice did not goldfish stay nice touch taken advantage staying longer location great walking distance shopping overall nice experience having pay parking night '"
      ]
     },
     "execution_count": 14,
     "metadata": {},
     "output_type": "execute_result"
    }
   ],
   "source": [
    "result = clean_t(test)\n",
    "result"
   ]
  },
  {
   "cell_type": "code",
   "execution_count": 15,
   "id": "146aaea4",
   "metadata": {
    "execution": {
     "iopub.execute_input": "2021-11-29T16:45:10.012528Z",
     "iopub.status.busy": "2021-11-29T16:45:10.011701Z",
     "iopub.status.idle": "2021-11-29T16:45:16.112374Z",
     "shell.execute_reply": "2021-11-29T16:45:16.111880Z",
     "shell.execute_reply.started": "2021-11-29T16:38:04.927975Z"
    },
    "papermill": {
     "duration": 6.164985,
     "end_time": "2021-11-29T16:45:16.112537",
     "exception": false,
     "start_time": "2021-11-29T16:45:09.947552",
     "status": "completed"
    },
    "tags": []
   },
   "outputs": [],
   "source": [
    "data_clean = [clean_t(t) for t in data.Review]"
   ]
  },
  {
   "cell_type": "code",
   "execution_count": 16,
   "id": "be53fbca",
   "metadata": {
    "execution": {
     "iopub.execute_input": "2021-11-29T16:45:16.239512Z",
     "iopub.status.busy": "2021-11-29T16:45:16.238794Z",
     "iopub.status.idle": "2021-11-29T16:45:16.241831Z",
     "shell.execute_reply": "2021-11-29T16:45:16.242251Z",
     "shell.execute_reply.started": "2021-11-29T16:38:10.785690Z"
    },
    "papermill": {
     "duration": 0.068856,
     "end_time": "2021-11-29T16:45:16.242390",
     "exception": false,
     "start_time": "2021-11-29T16:45:16.173534",
     "status": "completed"
    },
    "tags": []
   },
   "outputs": [
    {
     "data": {
      "text/plain": [
       "['nice hotel expensive parking got good deal stay hotel anniversary arrived late evening took advice previous reviews did valet parking check quick easy little disappointed non existent view room room clean nice size bed comfortable woke stiff neck high pillows not soundproof like heard music room night morning loud bangs doors opening closing hear people talking hallway maybe just noisy neighbors aveda bath products nice did not goldfish stay nice touch taken advantage staying longer location great walking distance shopping overall nice experience having pay parking night ',\n",
       " 'ok nothing special charge diamond member hilton decided chain shot th anniversary seattle start booked suite paid extra website description not suite bedroom bathroom standard hotel room took printed reservation desk showed said things like tv couch ect desk clerk told oh mixed suites description kimpton website sorry free breakfast got kidding embassy suits sitting room bathroom bedroom unlike kimpton calls suite day stay offer correct false advertising send kimpton preferred guest website email asking failure provide suite advertised website reservation description furnished hard copy reservation printout website desk manager duty did not reply solution send email trip guest survey did not follow email mail guess tell concerned guest.the staff ranged indifferent not helpful asked desk good breakfast spots neighborhood hood told no hotels gee best breakfast spots seattle block away convenient hotel does not know exist arrived late night pm inside run bellman busy chating cell phone help bags.prior arrival emailed hotel inform th anniversary half really picky wanted make sure good got nice email saying like deliver bottle champagne chocolate covered strawberries room arrival celebrate told needed foam pillows arrival no champagne strawberries no foam pillows great room view alley high rise building good not better housekeeping staff cleaner room property impressed left morning shopping room got short trips hours beds comfortable.not good ac heat control x inch screen bring green shine directly eyes night light sensitive tape controls.this not start hotel clean business hotel super high rates better chain hotels seattle ',\n",
       " 'nice rooms not experience hotel monaco seattle good hotel n t level.positives large bathroom mediterranean suite comfortable bed pillowsattentive housekeeping staffnegatives ac unit malfunctioned stay desk disorganized missed separate wakeup calls concierge busy hard touch did n t provide guidance special requests.tv hard use ipod sound dock suite non functioning. decided book mediterranean suite night weekend stay st choice rest party filled comparison w spent night larger square footage room great soaking tub whirlpool jets nice shower.before stay hotel arrange car service price tip reasonable driver waiting arrival.checkin easy downside room picked person jacuzi tub no bath accessories salts bubble bath did n t stay night got a checked voucher bottle champagne nice gesture fish waiting room impression room huge open space felt room big tv far away bed chore change channel ipod dock broken disappointing.in morning way asked desk check thermostat said f degrees warm try cover face night bright blue light kept got room night no st drop desk called maintainence came look thermostat told play settings happy digital box wo n t work asked wakeup am morning did n t happen called later pm nap wakeup forgot am wakeup morning yep forgotten.the bathroom facilities great room surprised room sold whirlpool bath tub n t bath amenities great relax water jets going ',\n",
       " 'unique great stay wonderful time hotel monaco location excellent short stroll main downtown shopping area pet friendly room showed no signs animal hair smells monaco suite sleeping area big striped curtains pulled closed nice touch felt cosy goldfish named brandi enjoyed did n t partake free wine coffee tea service lobby thought great feature great staff friendly free wireless internet hotel worked suite laptops decor lovely eclectic mix pattens color palatte animal print bathrobes feel like rock stars nice did n t look like sterile chain hotel hotel personality excellent stay ']"
      ]
     },
     "execution_count": 16,
     "metadata": {},
     "output_type": "execute_result"
    }
   ],
   "source": [
    "data_clean[0:4]"
   ]
  },
  {
   "cell_type": "code",
   "execution_count": 17,
   "id": "5ecd8790",
   "metadata": {
    "execution": {
     "iopub.execute_input": "2021-11-29T16:45:16.371290Z",
     "iopub.status.busy": "2021-11-29T16:45:16.370661Z",
     "iopub.status.idle": "2021-11-29T16:45:52.643041Z",
     "shell.execute_reply": "2021-11-29T16:45:52.642100Z",
     "shell.execute_reply.started": "2021-11-29T16:38:10.794637Z"
    },
    "papermill": {
     "duration": 36.339803,
     "end_time": "2021-11-29T16:45:52.643192",
     "exception": false,
     "start_time": "2021-11-29T16:45:16.303389",
     "status": "completed"
    },
    "tags": []
   },
   "outputs": [
    {
     "name": "stderr",
     "output_type": "stream",
     "text": [
      "2021-11-29 16:45:32.045773: I tensorflow/stream_executor/cuda/cuda_gpu_executor.cc:937] successful NUMA node read from SysFS had negative value (-1), but there must be at least one NUMA node, so returning NUMA node zero\n",
      "2021-11-29 16:45:32.047046: I tensorflow/stream_executor/cuda/cuda_gpu_executor.cc:937] successful NUMA node read from SysFS had negative value (-1), but there must be at least one NUMA node, so returning NUMA node zero\n",
      "2021-11-29 16:45:32.047780: I tensorflow/stream_executor/cuda/cuda_gpu_executor.cc:937] successful NUMA node read from SysFS had negative value (-1), but there must be at least one NUMA node, so returning NUMA node zero\n",
      "2021-11-29 16:45:32.048656: I tensorflow/core/platform/cpu_feature_guard.cc:142] This TensorFlow binary is optimized with oneAPI Deep Neural Network Library (oneDNN) to use the following CPU instructions in performance-critical operations:  AVX2 AVX512F FMA\n",
      "To enable them in other operations, rebuild TensorFlow with the appropriate compiler flags.\n",
      "2021-11-29 16:45:32.049887: I tensorflow/stream_executor/cuda/cuda_gpu_executor.cc:937] successful NUMA node read from SysFS had negative value (-1), but there must be at least one NUMA node, so returning NUMA node zero\n",
      "2021-11-29 16:45:32.050601: I tensorflow/stream_executor/cuda/cuda_gpu_executor.cc:937] successful NUMA node read from SysFS had negative value (-1), but there must be at least one NUMA node, so returning NUMA node zero\n",
      "2021-11-29 16:45:32.051302: I tensorflow/stream_executor/cuda/cuda_gpu_executor.cc:937] successful NUMA node read from SysFS had negative value (-1), but there must be at least one NUMA node, so returning NUMA node zero\n",
      "2021-11-29 16:45:40.027357: I tensorflow/stream_executor/cuda/cuda_gpu_executor.cc:937] successful NUMA node read from SysFS had negative value (-1), but there must be at least one NUMA node, so returning NUMA node zero\n",
      "2021-11-29 16:45:40.028265: I tensorflow/stream_executor/cuda/cuda_gpu_executor.cc:937] successful NUMA node read from SysFS had negative value (-1), but there must be at least one NUMA node, so returning NUMA node zero\n",
      "2021-11-29 16:45:40.028931: I tensorflow/stream_executor/cuda/cuda_gpu_executor.cc:937] successful NUMA node read from SysFS had negative value (-1), but there must be at least one NUMA node, so returning NUMA node zero\n",
      "2021-11-29 16:45:40.029522: I tensorflow/core/common_runtime/gpu/gpu_device.cc:1510] Created device /job:localhost/replica:0/task:0/device:GPU:0 with 14589 MB memory:  -> device: 0, name: Tesla P100-PCIE-16GB, pci bus id: 0000:00:04.0, compute capability: 6.0\n"
     ]
    }
   ],
   "source": [
    "FullTokenizer = bert.bert_tokenization.FullTokenizer\n",
    "bert_layer = hub.KerasLayer('https://tfhub.dev/tensorflow/bert_en_uncased_L-24_H-1024_A-16/1', trainable=False)\n",
    "vocab_file = bert_layer.resolved_object.vocab_file.asset_path.numpy()\n",
    "do_lower_case = bert_layer.resolved_object.do_lower_case.numpy()\n",
    "tokenizer = FullTokenizer(vocab_file, do_lower_case)"
   ]
  },
  {
   "cell_type": "code",
   "execution_count": 18,
   "id": "94fe49e0",
   "metadata": {
    "execution": {
     "iopub.execute_input": "2021-11-29T16:45:52.770697Z",
     "iopub.status.busy": "2021-11-29T16:45:52.769954Z",
     "iopub.status.idle": "2021-11-29T16:45:52.772979Z",
     "shell.execute_reply": "2021-11-29T16:45:52.773414Z",
     "shell.execute_reply.started": "2021-11-29T16:38:24.835467Z"
    },
    "papermill": {
     "duration": 0.069045,
     "end_time": "2021-11-29T16:45:52.773574",
     "exception": false,
     "start_time": "2021-11-29T16:45:52.704529",
     "status": "completed"
    },
    "tags": []
   },
   "outputs": [
    {
     "data": {
      "text/plain": [
       "b'/tmp/tfhub_modules/88ac13afec2955fd14396e4582c251841b67429a/assets/vocab.txt'"
      ]
     },
     "execution_count": 18,
     "metadata": {},
     "output_type": "execute_result"
    }
   ],
   "source": [
    "vocab_file"
   ]
  },
  {
   "cell_type": "code",
   "execution_count": 19,
   "id": "88cac670",
   "metadata": {
    "execution": {
     "iopub.execute_input": "2021-11-29T16:45:52.900075Z",
     "iopub.status.busy": "2021-11-29T16:45:52.899423Z",
     "iopub.status.idle": "2021-11-29T16:45:52.902035Z",
     "shell.execute_reply": "2021-11-29T16:45:52.902442Z",
     "shell.execute_reply.started": "2021-11-29T16:38:24.842629Z"
    },
    "papermill": {
     "duration": 0.067539,
     "end_time": "2021-11-29T16:45:52.902586",
     "exception": false,
     "start_time": "2021-11-29T16:45:52.835047",
     "status": "completed"
    },
    "tags": []
   },
   "outputs": [
    {
     "data": {
      "text/plain": [
       "30522"
      ]
     },
     "execution_count": 19,
     "metadata": {},
     "output_type": "execute_result"
    }
   ],
   "source": [
    "len(tokenizer.vocab)"
   ]
  },
  {
   "cell_type": "code",
   "execution_count": 20,
   "id": "e604d3b7",
   "metadata": {
    "execution": {
     "iopub.execute_input": "2021-11-29T16:45:53.031711Z",
     "iopub.status.busy": "2021-11-29T16:45:53.030436Z",
     "iopub.status.idle": "2021-11-29T16:45:53.033734Z",
     "shell.execute_reply": "2021-11-29T16:45:53.034172Z",
     "shell.execute_reply.started": "2021-11-29T16:38:24.856243Z"
    },
    "papermill": {
     "duration": 0.071022,
     "end_time": "2021-11-29T16:45:53.034303",
     "exception": false,
     "start_time": "2021-11-29T16:45:52.963281",
     "status": "completed"
    },
    "tags": []
   },
   "outputs": [
    {
     "data": {
      "text/plain": [
       "['my', 'dog', 'likes', 'straw', '##berries', '.']"
      ]
     },
     "execution_count": 20,
     "metadata": {},
     "output_type": "execute_result"
    }
   ],
   "source": [
    "tokenizer.tokenize('My dog likes strawberries.')"
   ]
  },
  {
   "cell_type": "code",
   "execution_count": 21,
   "id": "c08c6fb2",
   "metadata": {
    "execution": {
     "iopub.execute_input": "2021-11-29T16:45:53.162573Z",
     "iopub.status.busy": "2021-11-29T16:45:53.161888Z",
     "iopub.status.idle": "2021-11-29T16:45:53.164392Z",
     "shell.execute_reply": "2021-11-29T16:45:53.164931Z",
     "shell.execute_reply.started": "2021-11-29T16:38:24.867640Z"
    },
    "papermill": {
     "duration": 0.067647,
     "end_time": "2021-11-29T16:45:53.165058",
     "exception": false,
     "start_time": "2021-11-29T16:45:53.097411",
     "status": "completed"
    },
    "tags": []
   },
   "outputs": [
    {
     "data": {
      "text/plain": [
       "[2026, 3899, 7777, 13137, 20968, 1012]"
      ]
     },
     "execution_count": 21,
     "metadata": {},
     "output_type": "execute_result"
    }
   ],
   "source": [
    "tokenizer.convert_tokens_to_ids(tokenizer.tokenize('My dog likes strawberries.'))"
   ]
  },
  {
   "cell_type": "code",
   "execution_count": 22,
   "id": "66052989",
   "metadata": {
    "execution": {
     "iopub.execute_input": "2021-11-29T16:45:53.290986Z",
     "iopub.status.busy": "2021-11-29T16:45:53.290232Z",
     "iopub.status.idle": "2021-11-29T16:45:53.292660Z",
     "shell.execute_reply": "2021-11-29T16:45:53.292217Z",
     "shell.execute_reply.started": "2021-11-29T16:38:24.876274Z"
    },
    "papermill": {
     "duration": 0.066953,
     "end_time": "2021-11-29T16:45:53.292780",
     "exception": false,
     "start_time": "2021-11-29T16:45:53.225827",
     "status": "completed"
    },
    "tags": []
   },
   "outputs": [],
   "source": [
    "def encode_sentence(sent):\n",
    "  return tokenizer.convert_tokens_to_ids(tokenizer.tokenize(sent))"
   ]
  },
  {
   "cell_type": "code",
   "execution_count": 23,
   "id": "17bb0900",
   "metadata": {
    "execution": {
     "iopub.execute_input": "2021-11-29T16:45:53.419731Z",
     "iopub.status.busy": "2021-11-29T16:45:53.419040Z",
     "iopub.status.idle": "2021-11-29T16:45:53.421752Z",
     "shell.execute_reply": "2021-11-29T16:45:53.422193Z",
     "shell.execute_reply.started": "2021-11-29T16:38:24.883581Z"
    },
    "papermill": {
     "duration": 0.068727,
     "end_time": "2021-11-29T16:45:53.422321",
     "exception": false,
     "start_time": "2021-11-29T16:45:53.353594",
     "status": "completed"
    },
    "tags": []
   },
   "outputs": [
    {
     "data": {
      "text/plain": [
       "[2026, 3899, 7777, 13137, 20968]"
      ]
     },
     "execution_count": 23,
     "metadata": {},
     "output_type": "execute_result"
    }
   ],
   "source": [
    "encode_sentence('my dog likes strawberries')"
   ]
  },
  {
   "cell_type": "code",
   "execution_count": 24,
   "id": "c620c4be",
   "metadata": {
    "execution": {
     "iopub.execute_input": "2021-11-29T16:45:53.588704Z",
     "iopub.status.busy": "2021-11-29T16:45:53.568209Z",
     "iopub.status.idle": "2021-11-29T16:46:51.567685Z",
     "shell.execute_reply": "2021-11-29T16:46:51.567146Z",
     "shell.execute_reply.started": "2021-11-29T16:38:24.893776Z"
    },
    "papermill": {
     "duration": 58.083553,
     "end_time": "2021-11-29T16:46:51.567847",
     "exception": false,
     "start_time": "2021-11-29T16:45:53.484294",
     "status": "completed"
    },
    "tags": []
   },
   "outputs": [],
   "source": [
    "data_inputs = [encode_sentence(sentence) for sentence in data_clean]"
   ]
  },
  {
   "cell_type": "code",
   "execution_count": 25,
   "id": "445dea28",
   "metadata": {
    "execution": {
     "iopub.execute_input": "2021-11-29T16:46:51.701689Z",
     "iopub.status.busy": "2021-11-29T16:46:51.700901Z",
     "iopub.status.idle": "2021-11-29T16:46:51.703783Z",
     "shell.execute_reply": "2021-11-29T16:46:51.704206Z",
     "shell.execute_reply.started": "2021-11-29T16:39:22.641194Z"
    },
    "papermill": {
     "duration": 0.073745,
     "end_time": "2021-11-29T16:46:51.704337",
     "exception": false,
     "start_time": "2021-11-29T16:46:51.630592",
     "status": "completed"
    },
    "tags": []
   },
   "outputs": [
    {
     "data": {
      "text/plain": [
       "[7929,\n",
       " 2498,\n",
       " 2569,\n",
       " 3715,\n",
       " 6323,\n",
       " 2266,\n",
       " 15481,\n",
       " 2787,\n",
       " 4677,\n",
       " 2915,\n",
       " 16215,\n",
       " 5315,\n",
       " 5862,\n",
       " 2707,\n",
       " 17414,\n",
       " 7621,\n",
       " 3825,\n",
       " 4469,\n",
       " 4037,\n",
       " 6412,\n",
       " 2025,\n",
       " 7621,\n",
       " 5010,\n",
       " 5723,\n",
       " 3115,\n",
       " 3309,\n",
       " 2282,\n",
       " 2165,\n",
       " 6267,\n",
       " 11079,\n",
       " 4624,\n",
       " 3662,\n",
       " 2056,\n",
       " 2477,\n",
       " 2066,\n",
       " 2694,\n",
       " 6411,\n",
       " 14925,\n",
       " 2102,\n",
       " 4624,\n",
       " 7805,\n",
       " 2409,\n",
       " 2821,\n",
       " 3816,\n",
       " 19796,\n",
       " 6412,\n",
       " 5035,\n",
       " 15857,\n",
       " 4037,\n",
       " 3374,\n",
       " 2489,\n",
       " 6350,\n",
       " 2288,\n",
       " 12489,\n",
       " 8408,\n",
       " 11072,\n",
       " 3564,\n",
       " 2282,\n",
       " 5723,\n",
       " 5010,\n",
       " 4406,\n",
       " 5035,\n",
       " 15857,\n",
       " 4455,\n",
       " 7621,\n",
       " 2154,\n",
       " 2994,\n",
       " 3749,\n",
       " 6149,\n",
       " 6270,\n",
       " 6475,\n",
       " 4604,\n",
       " 5035,\n",
       " 15857,\n",
       " 6871,\n",
       " 4113,\n",
       " 4037,\n",
       " 10373,\n",
       " 4851,\n",
       " 4945,\n",
       " 3073,\n",
       " 7621,\n",
       " 17099,\n",
       " 4037,\n",
       " 11079,\n",
       " 6412,\n",
       " 19851,\n",
       " 2524,\n",
       " 6100,\n",
       " 11079,\n",
       " 6140,\n",
       " 5833,\n",
       " 4037,\n",
       " 4624,\n",
       " 3208,\n",
       " 4611,\n",
       " 2106,\n",
       " 2025,\n",
       " 7514,\n",
       " 5576,\n",
       " 4604,\n",
       " 10373,\n",
       " 4440,\n",
       " 4113,\n",
       " 5002,\n",
       " 2106,\n",
       " 2025,\n",
       " 3582,\n",
       " 10373,\n",
       " 5653,\n",
       " 3984,\n",
       " 2425,\n",
       " 4986,\n",
       " 4113,\n",
       " 1012,\n",
       " 1996,\n",
       " 3095,\n",
       " 15844,\n",
       " 24436,\n",
       " 2025,\n",
       " 14044,\n",
       " 2356,\n",
       " 4624,\n",
       " 2204,\n",
       " 6350,\n",
       " 7516,\n",
       " 5101,\n",
       " 7415,\n",
       " 2409,\n",
       " 2053,\n",
       " 9275,\n",
       " 20277,\n",
       " 2190,\n",
       " 6350,\n",
       " 7516,\n",
       " 5862,\n",
       " 3796,\n",
       " 2185,\n",
       " 14057,\n",
       " 3309,\n",
       " 2515,\n",
       " 2025,\n",
       " 2113,\n",
       " 4839,\n",
       " 3369,\n",
       " 2397,\n",
       " 2305,\n",
       " 7610,\n",
       " 2503,\n",
       " 2448,\n",
       " 4330,\n",
       " 2386,\n",
       " 5697,\n",
       " 11834,\n",
       " 2075,\n",
       " 3526,\n",
       " 3042,\n",
       " 2393,\n",
       " 8641,\n",
       " 1012,\n",
       " 3188,\n",
       " 5508,\n",
       " 10373,\n",
       " 2098,\n",
       " 3309,\n",
       " 12367,\n",
       " 16215,\n",
       " 5315,\n",
       " 2431,\n",
       " 2428,\n",
       " 4060,\n",
       " 2100,\n",
       " 2359,\n",
       " 2191,\n",
       " 2469,\n",
       " 2204,\n",
       " 2288,\n",
       " 3835,\n",
       " 10373,\n",
       " 3038,\n",
       " 2066,\n",
       " 8116,\n",
       " 5835,\n",
       " 12327,\n",
       " 7967,\n",
       " 3139,\n",
       " 13137,\n",
       " 20968,\n",
       " 2282,\n",
       " 5508,\n",
       " 8439,\n",
       " 2409,\n",
       " 2734,\n",
       " 17952,\n",
       " 17860,\n",
       " 5508,\n",
       " 2053,\n",
       " 12327,\n",
       " 13137,\n",
       " 20968,\n",
       " 2053,\n",
       " 17952,\n",
       " 17860,\n",
       " 2307,\n",
       " 2282,\n",
       " 3193,\n",
       " 8975,\n",
       " 2152,\n",
       " 4125,\n",
       " 2311,\n",
       " 2204,\n",
       " 2025,\n",
       " 2488,\n",
       " 2160,\n",
       " 18321,\n",
       " 3095,\n",
       " 20133,\n",
       " 2282,\n",
       " 3200,\n",
       " 7622,\n",
       " 2187,\n",
       " 2851,\n",
       " 6023,\n",
       " 2282,\n",
       " 2288,\n",
       " 2460,\n",
       " 9109,\n",
       " 2847,\n",
       " 9705,\n",
       " 6625,\n",
       " 1012,\n",
       " 2025,\n",
       " 2204,\n",
       " 9353,\n",
       " 3684,\n",
       " 2491,\n",
       " 1060,\n",
       " 4960,\n",
       " 3898,\n",
       " 3288,\n",
       " 2665,\n",
       " 12342,\n",
       " 3495,\n",
       " 2159,\n",
       " 2305,\n",
       " 2422,\n",
       " 7591,\n",
       " 6823,\n",
       " 7711,\n",
       " 1012,\n",
       " 2023,\n",
       " 2025,\n",
       " 2707,\n",
       " 3309,\n",
       " 4550,\n",
       " 2449,\n",
       " 3309,\n",
       " 3565,\n",
       " 2152,\n",
       " 6165,\n",
       " 2488,\n",
       " 4677,\n",
       " 9275,\n",
       " 5862]"
      ]
     },
     "execution_count": 25,
     "metadata": {},
     "output_type": "execute_result"
    }
   ],
   "source": [
    "data_inputs[1]"
   ]
  },
  {
   "cell_type": "markdown",
   "id": "b599d638",
   "metadata": {
    "papermill": {
     "duration": 0.062454,
     "end_time": "2021-11-29T16:46:51.828808",
     "exception": false,
     "start_time": "2021-11-29T16:46:51.766354",
     "status": "completed"
    },
    "tags": []
   },
   "source": [
    "# Database creation"
   ]
  },
  {
   "cell_type": "code",
   "execution_count": 26,
   "id": "eb0f5218",
   "metadata": {
    "execution": {
     "iopub.execute_input": "2021-11-29T16:46:51.957607Z",
     "iopub.status.busy": "2021-11-29T16:46:51.956673Z",
     "iopub.status.idle": "2021-11-29T16:46:51.958629Z",
     "shell.execute_reply": "2021-11-29T16:46:51.959124Z",
     "shell.execute_reply.started": "2021-11-29T16:39:22.653867Z"
    },
    "papermill": {
     "duration": 0.068602,
     "end_time": "2021-11-29T16:46:51.959264",
     "exception": false,
     "start_time": "2021-11-29T16:46:51.890662",
     "status": "completed"
    },
    "tags": []
   },
   "outputs": [],
   "source": [
    "data_labels = data.iloc[:,1].values"
   ]
  },
  {
   "cell_type": "code",
   "execution_count": 27,
   "id": "a9b2dd4c",
   "metadata": {
    "execution": {
     "iopub.execute_input": "2021-11-29T16:46:52.090217Z",
     "iopub.status.busy": "2021-11-29T16:46:52.089696Z",
     "iopub.status.idle": "2021-11-29T16:46:52.093188Z",
     "shell.execute_reply": "2021-11-29T16:46:52.093645Z",
     "shell.execute_reply.started": "2021-11-29T16:39:22.664382Z"
    },
    "papermill": {
     "duration": 0.071573,
     "end_time": "2021-11-29T16:46:52.093779",
     "exception": false,
     "start_time": "2021-11-29T16:46:52.022206",
     "status": "completed"
    },
    "tags": []
   },
   "outputs": [
    {
     "data": {
      "text/plain": [
       "array([1, 1, 1, ..., 1, 0, 1])"
      ]
     },
     "execution_count": 27,
     "metadata": {},
     "output_type": "execute_result"
    }
   ],
   "source": [
    "data_labels"
   ]
  },
  {
   "cell_type": "code",
   "execution_count": 28,
   "id": "2a430dcc",
   "metadata": {
    "execution": {
     "iopub.execute_input": "2021-11-29T16:46:52.237473Z",
     "iopub.status.busy": "2021-11-29T16:46:52.235855Z",
     "iopub.status.idle": "2021-11-29T16:46:52.238089Z",
     "shell.execute_reply": "2021-11-29T16:46:52.238569Z",
     "shell.execute_reply.started": "2021-11-29T16:39:22.674659Z"
    },
    "papermill": {
     "duration": 0.082968,
     "end_time": "2021-11-29T16:46:52.238709",
     "exception": false,
     "start_time": "2021-11-29T16:46:52.155741",
     "status": "completed"
    },
    "tags": []
   },
   "outputs": [],
   "source": [
    "data_with_len = [[sent, data_labels[i], len(sent)]\n",
    "                 for i, sent in enumerate(data_inputs)]"
   ]
  },
  {
   "cell_type": "code",
   "execution_count": 29,
   "id": "73b83fdf",
   "metadata": {
    "execution": {
     "iopub.execute_input": "2021-11-29T16:46:52.376176Z",
     "iopub.status.busy": "2021-11-29T16:46:52.375275Z",
     "iopub.status.idle": "2021-11-29T16:46:52.383073Z",
     "shell.execute_reply": "2021-11-29T16:46:52.382635Z",
     "shell.execute_reply.started": "2021-11-29T16:39:22.696557Z"
    },
    "papermill": {
     "duration": 0.080174,
     "end_time": "2021-11-29T16:46:52.383182",
     "exception": false,
     "start_time": "2021-11-29T16:46:52.303008",
     "status": "completed"
    },
    "tags": []
   },
   "outputs": [
    {
     "data": {
      "text/plain": [
       "[[[3835,\n",
       "   3309,\n",
       "   6450,\n",
       "   5581,\n",
       "   2288,\n",
       "   2204,\n",
       "   3066,\n",
       "   2994,\n",
       "   3309,\n",
       "   5315,\n",
       "   3369,\n",
       "   2397,\n",
       "   3944,\n",
       "   2165,\n",
       "   6040,\n",
       "   3025,\n",
       "   4391,\n",
       "   2106,\n",
       "   27238,\n",
       "   5581,\n",
       "   4638,\n",
       "   4248,\n",
       "   3733,\n",
       "   2210,\n",
       "   9364,\n",
       "   2512,\n",
       "   25953,\n",
       "   3193,\n",
       "   2282,\n",
       "   2282,\n",
       "   4550,\n",
       "   3835,\n",
       "   2946,\n",
       "   2793,\n",
       "   6625,\n",
       "   8271,\n",
       "   10551,\n",
       "   3300,\n",
       "   2152,\n",
       "   17860,\n",
       "   2025,\n",
       "   2614,\n",
       "   18907,\n",
       "   2066,\n",
       "   2657,\n",
       "   2189,\n",
       "   2282,\n",
       "   2305,\n",
       "   2851,\n",
       "   5189,\n",
       "   28490,\n",
       "   4303,\n",
       "   3098,\n",
       "   5494,\n",
       "   2963,\n",
       "   2111,\n",
       "   3331,\n",
       "   6797,\n",
       "   2672,\n",
       "   2074,\n",
       "   20810,\n",
       "   10638,\n",
       "   13642,\n",
       "   2850,\n",
       "   7198,\n",
       "   3688,\n",
       "   3835,\n",
       "   2106,\n",
       "   2025,\n",
       "   2751,\n",
       "   7529,\n",
       "   2994,\n",
       "   3835,\n",
       "   3543,\n",
       "   2579,\n",
       "   5056,\n",
       "   6595,\n",
       "   2936,\n",
       "   3295,\n",
       "   2307,\n",
       "   3788,\n",
       "   3292,\n",
       "   6023,\n",
       "   3452,\n",
       "   3835,\n",
       "   3325,\n",
       "   2383,\n",
       "   3477,\n",
       "   5581,\n",
       "   2305],\n",
       "  1,\n",
       "  90],\n",
       " [[7929,\n",
       "   2498,\n",
       "   2569,\n",
       "   3715,\n",
       "   6323,\n",
       "   2266,\n",
       "   15481,\n",
       "   2787,\n",
       "   4677,\n",
       "   2915,\n",
       "   16215,\n",
       "   5315,\n",
       "   5862,\n",
       "   2707,\n",
       "   17414,\n",
       "   7621,\n",
       "   3825,\n",
       "   4469,\n",
       "   4037,\n",
       "   6412,\n",
       "   2025,\n",
       "   7621,\n",
       "   5010,\n",
       "   5723,\n",
       "   3115,\n",
       "   3309,\n",
       "   2282,\n",
       "   2165,\n",
       "   6267,\n",
       "   11079,\n",
       "   4624,\n",
       "   3662,\n",
       "   2056,\n",
       "   2477,\n",
       "   2066,\n",
       "   2694,\n",
       "   6411,\n",
       "   14925,\n",
       "   2102,\n",
       "   4624,\n",
       "   7805,\n",
       "   2409,\n",
       "   2821,\n",
       "   3816,\n",
       "   19796,\n",
       "   6412,\n",
       "   5035,\n",
       "   15857,\n",
       "   4037,\n",
       "   3374,\n",
       "   2489,\n",
       "   6350,\n",
       "   2288,\n",
       "   12489,\n",
       "   8408,\n",
       "   11072,\n",
       "   3564,\n",
       "   2282,\n",
       "   5723,\n",
       "   5010,\n",
       "   4406,\n",
       "   5035,\n",
       "   15857,\n",
       "   4455,\n",
       "   7621,\n",
       "   2154,\n",
       "   2994,\n",
       "   3749,\n",
       "   6149,\n",
       "   6270,\n",
       "   6475,\n",
       "   4604,\n",
       "   5035,\n",
       "   15857,\n",
       "   6871,\n",
       "   4113,\n",
       "   4037,\n",
       "   10373,\n",
       "   4851,\n",
       "   4945,\n",
       "   3073,\n",
       "   7621,\n",
       "   17099,\n",
       "   4037,\n",
       "   11079,\n",
       "   6412,\n",
       "   19851,\n",
       "   2524,\n",
       "   6100,\n",
       "   11079,\n",
       "   6140,\n",
       "   5833,\n",
       "   4037,\n",
       "   4624,\n",
       "   3208,\n",
       "   4611,\n",
       "   2106,\n",
       "   2025,\n",
       "   7514,\n",
       "   5576,\n",
       "   4604,\n",
       "   10373,\n",
       "   4440,\n",
       "   4113,\n",
       "   5002,\n",
       "   2106,\n",
       "   2025,\n",
       "   3582,\n",
       "   10373,\n",
       "   5653,\n",
       "   3984,\n",
       "   2425,\n",
       "   4986,\n",
       "   4113,\n",
       "   1012,\n",
       "   1996,\n",
       "   3095,\n",
       "   15844,\n",
       "   24436,\n",
       "   2025,\n",
       "   14044,\n",
       "   2356,\n",
       "   4624,\n",
       "   2204,\n",
       "   6350,\n",
       "   7516,\n",
       "   5101,\n",
       "   7415,\n",
       "   2409,\n",
       "   2053,\n",
       "   9275,\n",
       "   20277,\n",
       "   2190,\n",
       "   6350,\n",
       "   7516,\n",
       "   5862,\n",
       "   3796,\n",
       "   2185,\n",
       "   14057,\n",
       "   3309,\n",
       "   2515,\n",
       "   2025,\n",
       "   2113,\n",
       "   4839,\n",
       "   3369,\n",
       "   2397,\n",
       "   2305,\n",
       "   7610,\n",
       "   2503,\n",
       "   2448,\n",
       "   4330,\n",
       "   2386,\n",
       "   5697,\n",
       "   11834,\n",
       "   2075,\n",
       "   3526,\n",
       "   3042,\n",
       "   2393,\n",
       "   8641,\n",
       "   1012,\n",
       "   3188,\n",
       "   5508,\n",
       "   10373,\n",
       "   2098,\n",
       "   3309,\n",
       "   12367,\n",
       "   16215,\n",
       "   5315,\n",
       "   2431,\n",
       "   2428,\n",
       "   4060,\n",
       "   2100,\n",
       "   2359,\n",
       "   2191,\n",
       "   2469,\n",
       "   2204,\n",
       "   2288,\n",
       "   3835,\n",
       "   10373,\n",
       "   3038,\n",
       "   2066,\n",
       "   8116,\n",
       "   5835,\n",
       "   12327,\n",
       "   7967,\n",
       "   3139,\n",
       "   13137,\n",
       "   20968,\n",
       "   2282,\n",
       "   5508,\n",
       "   8439,\n",
       "   2409,\n",
       "   2734,\n",
       "   17952,\n",
       "   17860,\n",
       "   5508,\n",
       "   2053,\n",
       "   12327,\n",
       "   13137,\n",
       "   20968,\n",
       "   2053,\n",
       "   17952,\n",
       "   17860,\n",
       "   2307,\n",
       "   2282,\n",
       "   3193,\n",
       "   8975,\n",
       "   2152,\n",
       "   4125,\n",
       "   2311,\n",
       "   2204,\n",
       "   2025,\n",
       "   2488,\n",
       "   2160,\n",
       "   18321,\n",
       "   3095,\n",
       "   20133,\n",
       "   2282,\n",
       "   3200,\n",
       "   7622,\n",
       "   2187,\n",
       "   2851,\n",
       "   6023,\n",
       "   2282,\n",
       "   2288,\n",
       "   2460,\n",
       "   9109,\n",
       "   2847,\n",
       "   9705,\n",
       "   6625,\n",
       "   1012,\n",
       "   2025,\n",
       "   2204,\n",
       "   9353,\n",
       "   3684,\n",
       "   2491,\n",
       "   1060,\n",
       "   4960,\n",
       "   3898,\n",
       "   3288,\n",
       "   2665,\n",
       "   12342,\n",
       "   3495,\n",
       "   2159,\n",
       "   2305,\n",
       "   2422,\n",
       "   7591,\n",
       "   6823,\n",
       "   7711,\n",
       "   1012,\n",
       "   2023,\n",
       "   2025,\n",
       "   2707,\n",
       "   3309,\n",
       "   4550,\n",
       "   2449,\n",
       "   3309,\n",
       "   3565,\n",
       "   2152,\n",
       "   6165,\n",
       "   2488,\n",
       "   4677,\n",
       "   9275,\n",
       "   5862],\n",
       "  1,\n",
       "  264]]"
      ]
     },
     "execution_count": 29,
     "metadata": {},
     "output_type": "execute_result"
    }
   ],
   "source": [
    "data_with_len[0:2]"
   ]
  },
  {
   "cell_type": "code",
   "execution_count": 30,
   "id": "75106499",
   "metadata": {
    "execution": {
     "iopub.execute_input": "2021-11-29T16:46:52.550176Z",
     "iopub.status.busy": "2021-11-29T16:46:52.532344Z",
     "iopub.status.idle": "2021-11-29T16:46:52.557614Z",
     "shell.execute_reply": "2021-11-29T16:46:52.556688Z",
     "shell.execute_reply.started": "2021-11-29T16:39:22.713638Z"
    },
    "papermill": {
     "duration": 0.107432,
     "end_time": "2021-11-29T16:46:52.557729",
     "exception": false,
     "start_time": "2021-11-29T16:46:52.450297",
     "status": "completed"
    },
    "tags": []
   },
   "outputs": [],
   "source": [
    "random.shuffle(data_with_len)\n",
    "data_with_len.sort(key=lambda x: x[2])\n",
    "sorted_all = [(sent_lab[0], sent_lab[1])\n",
    "              for sent_lab in data_with_len if sent_lab[2] > 7]"
   ]
  },
  {
   "cell_type": "code",
   "execution_count": 31,
   "id": "6a9091d4",
   "metadata": {
    "execution": {
     "iopub.execute_input": "2021-11-29T16:46:52.692151Z",
     "iopub.status.busy": "2021-11-29T16:46:52.691381Z",
     "iopub.status.idle": "2021-11-29T16:46:52.694249Z",
     "shell.execute_reply": "2021-11-29T16:46:52.694805Z",
     "shell.execute_reply.started": "2021-11-29T16:39:22.780443Z"
    },
    "papermill": {
     "duration": 0.073907,
     "end_time": "2021-11-29T16:46:52.694951",
     "exception": false,
     "start_time": "2021-11-29T16:46:52.621044",
     "status": "completed"
    },
    "tags": []
   },
   "outputs": [
    {
     "data": {
      "text/plain": [
       "[([2498,\n",
       "   2569,\n",
       "   15003,\n",
       "   2157,\n",
       "   3309,\n",
       "   4037,\n",
       "   2025,\n",
       "   3309,\n",
       "   6595,\n",
       "   10908,\n",
       "   5667,\n",
       "   2275,\n",
       "   2982,\n",
       "   2307,\n",
       "   2811,\n",
       "   22861,\n",
       "   2232,\n",
       "   2363,\n",
       "   2627,\n",
       "   2908,\n",
       "   10401,\n",
       "   1050,\n",
       "   1056,\n",
       "   2215,\n",
       "   2994,\n",
       "   3976,\n",
       "   13003,\n",
       "   4276,\n",
       "   2431,\n",
       "   3976,\n",
       "   2672,\n",
       "   3976,\n",
       "   2215,\n",
       "   2994,\n",
       "   7601,\n",
       "   2630,\n",
       "   9154,\n",
       "   9686,\n",
       "   4842,\n",
       "   16076,\n",
       "   2173,\n",
       "   2215],\n",
       "  1),\n",
       " ([5791,\n",
       "   16755,\n",
       "   17414,\n",
       "   3309,\n",
       "   3978,\n",
       "   4391,\n",
       "   3191,\n",
       "   4440,\n",
       "   4748,\n",
       "   15088,\n",
       "   3771,\n",
       "   2025,\n",
       "   9364,\n",
       "   2165,\n",
       "   12954,\n",
       "   6396,\n",
       "   2420,\n",
       "   2359,\n",
       "   2191,\n",
       "   2569,\n",
       "   2204,\n",
       "   3643,\n",
       "   2307,\n",
       "   3295,\n",
       "   2939,\n",
       "   9530,\n",
       "   3401,\n",
       "   4313,\n",
       "   3351,\n",
       "   8403,\n",
       "   1058,\n",
       "   14044,\n",
       "   2709,\n",
       "   13431,\n",
       "   1012,\n",
       "   1045,\n",
       "   2253,\n",
       "   2257,\n",
       "   9471,\n",
       "   3319,\n",
       "   2051,\n",
       "   3374],\n",
       "  1),\n",
       " ([3835,\n",
       "   2994,\n",
       "   6425,\n",
       "   2074,\n",
       "   2513,\n",
       "   2305,\n",
       "   2994,\n",
       "   6425,\n",
       "   2245,\n",
       "   3835,\n",
       "   3309,\n",
       "   2282,\n",
       "   3760,\n",
       "   2946,\n",
       "   2053,\n",
       "   3760,\n",
       "   3115,\n",
       "   2282,\n",
       "   1059,\n",
       "   1012,\n",
       "   2326,\n",
       "   6581,\n",
       "   4624,\n",
       "   9530,\n",
       "   19562,\n",
       "   3351,\n",
       "   2282,\n",
       "   2326,\n",
       "   2735,\n",
       "   2307,\n",
       "   10005,\n",
       "   12183,\n",
       "   3835,\n",
       "   3543,\n",
       "   3452,\n",
       "   3976,\n",
       "   3295,\n",
       "   1050,\n",
       "   1056,\n",
       "   2228,\n",
       "   9364,\n",
       "   6595],\n",
       "  1),\n",
       " ([2204,\n",
       "   3643,\n",
       "   2204,\n",
       "   3295,\n",
       "   2307,\n",
       "   3095,\n",
       "   14942,\n",
       "   2307,\n",
       "   3643,\n",
       "   3962,\n",
       "   7598,\n",
       "   4734,\n",
       "   3962,\n",
       "   3238,\n",
       "   23442,\n",
       "   2307,\n",
       "   2282,\n",
       "   2235,\n",
       "   2106,\n",
       "   3105,\n",
       "   3962,\n",
       "   10895,\n",
       "   4550,\n",
       "   2572,\n",
       "   20693,\n",
       "   2734,\n",
       "   16716,\n",
       "   3647,\n",
       "   2694,\n",
       "   3095,\n",
       "   6581,\n",
       "   5379,\n",
       "   2428,\n",
       "   18066,\n",
       "   3309,\n",
       "   3295,\n",
       "   2430,\n",
       "   5791,\n",
       "   2190,\n",
       "   9275,\n",
       "   3976,\n",
       "   2846],\n",
       "  1),\n",
       " ([9223,\n",
       "   11084,\n",
       "   2326,\n",
       "   5621,\n",
       "   7622,\n",
       "   11084,\n",
       "   3309,\n",
       "   2074,\n",
       "   2314,\n",
       "   2540,\n",
       "   7701,\n",
       "   2214,\n",
       "   5039,\n",
       "   2763,\n",
       "   27486,\n",
       "   5116,\n",
       "   9275,\n",
       "   2460,\n",
       "   3328,\n",
       "   4023,\n",
       "   2282,\n",
       "   3243,\n",
       "   3835,\n",
       "   4550,\n",
       "   6350,\n",
       "   19404,\n",
       "   26380,\n",
       "   6350,\n",
       "   3095,\n",
       "   5186,\n",
       "   16222,\n",
       "   19506,\n",
       "   16616,\n",
       "   2437,\n",
       "   4825,\n",
       "   17829,\n",
       "   5256,\n",
       "   4455,\n",
       "   14763,\n",
       "   25964,\n",
       "   2428,\n",
       "   16755],\n",
       "  1)]"
      ]
     },
     "execution_count": 31,
     "metadata": {},
     "output_type": "execute_result"
    }
   ],
   "source": [
    "sorted_all[3000:3005]"
   ]
  },
  {
   "cell_type": "code",
   "execution_count": 32,
   "id": "7995cfa5",
   "metadata": {
    "execution": {
     "iopub.execute_input": "2021-11-29T16:46:52.828158Z",
     "iopub.status.busy": "2021-11-29T16:46:52.827603Z",
     "iopub.status.idle": "2021-11-29T16:46:52.853315Z",
     "shell.execute_reply": "2021-11-29T16:46:52.852893Z",
     "shell.execute_reply.started": "2021-11-29T16:39:22.791798Z"
    },
    "papermill": {
     "duration": 0.0952,
     "end_time": "2021-11-29T16:46:52.853430",
     "exception": false,
     "start_time": "2021-11-29T16:46:52.758230",
     "status": "completed"
    },
    "tags": []
   },
   "outputs": [],
   "source": [
    "all_dataset = tf.data.Dataset.from_generator(lambda: sorted_all,\n",
    "                                             output_types = (tf.int32, tf.int32))"
   ]
  },
  {
   "cell_type": "code",
   "execution_count": 33,
   "id": "62f02165",
   "metadata": {
    "execution": {
     "iopub.execute_input": "2021-11-29T16:46:52.984439Z",
     "iopub.status.busy": "2021-11-29T16:46:52.983922Z",
     "iopub.status.idle": "2021-11-29T16:46:53.057470Z",
     "shell.execute_reply": "2021-11-29T16:46:53.057920Z",
     "shell.execute_reply.started": "2021-11-29T16:39:22.821314Z"
    },
    "papermill": {
     "duration": 0.141065,
     "end_time": "2021-11-29T16:46:53.058069",
     "exception": false,
     "start_time": "2021-11-29T16:46:52.917004",
     "status": "completed"
    },
    "tags": []
   },
   "outputs": [
    {
     "name": "stderr",
     "output_type": "stream",
     "text": [
      "2021-11-29 16:46:53.013675: I tensorflow/compiler/mlir/mlir_graph_optimization_pass.cc:185] None of the MLIR Optimization Passes are enabled (registered 2)\n"
     ]
    },
    {
     "data": {
      "text/plain": [
       "(<tf.Tensor: shape=(8,), dtype=int32, numpy=array([3835, 3309, 3193, 2117, 2282, 2282, 2187, 5216], dtype=int32)>,\n",
       " <tf.Tensor: shape=(), dtype=int32, numpy=1>)"
      ]
     },
     "execution_count": 33,
     "metadata": {},
     "output_type": "execute_result"
    }
   ],
   "source": [
    "next(iter(all_dataset))"
   ]
  },
  {
   "cell_type": "code",
   "execution_count": 34,
   "id": "58bb46f1",
   "metadata": {
    "execution": {
     "iopub.execute_input": "2021-11-29T16:46:53.192203Z",
     "iopub.status.busy": "2021-11-29T16:46:53.191396Z",
     "iopub.status.idle": "2021-11-29T16:46:53.195386Z",
     "shell.execute_reply": "2021-11-29T16:46:53.195812Z",
     "shell.execute_reply.started": "2021-11-29T16:39:22.852533Z"
    },
    "papermill": {
     "duration": 0.073851,
     "end_time": "2021-11-29T16:46:53.195953",
     "exception": false,
     "start_time": "2021-11-29T16:46:53.122102",
     "status": "completed"
    },
    "tags": []
   },
   "outputs": [],
   "source": [
    "BATCH_SIZE = 32\n",
    "all_batched = all_dataset.padded_batch(BATCH_SIZE, padded_shapes=((None, ), ()))"
   ]
  },
  {
   "cell_type": "code",
   "execution_count": 35,
   "id": "b13de800",
   "metadata": {
    "execution": {
     "iopub.execute_input": "2021-11-29T16:46:53.328641Z",
     "iopub.status.busy": "2021-11-29T16:46:53.327845Z",
     "iopub.status.idle": "2021-11-29T16:46:53.360418Z",
     "shell.execute_reply": "2021-11-29T16:46:53.360002Z",
     "shell.execute_reply.started": "2021-11-29T16:39:22.861486Z"
    },
    "papermill": {
     "duration": 0.100699,
     "end_time": "2021-11-29T16:46:53.360560",
     "exception": false,
     "start_time": "2021-11-29T16:46:53.259861",
     "status": "completed"
    },
    "tags": []
   },
   "outputs": [
    {
     "data": {
      "text/plain": [
       "(<tf.Tensor: shape=(32, 12), dtype=int32, numpy=\n",
       " array([[ 3835,  3309,  3193,  2117,  2282,  2282,  2187,  5216,     0,\n",
       "             0,     0,     0],\n",
       "        [ 3314,  1050,  1056,  2360,  2732,  2326,  2307,  4770,  3347,\n",
       "             0,     0,     0],\n",
       "        [11519,  2173,  2994,  3976,  2793,  2157,  5723,  4098,  4084,\n",
       "             0,     0,     0],\n",
       "        [ 5580,  4370,  2307,  3325,  2994,  2051,  4084, 14271, 10356,\n",
       "             0,     0,     0],\n",
       "        [ 2193,  3309,  2193,  5464,  3819,  2126,  2190,  6350,  2088,\n",
       "             0,     0,     0],\n",
       "        [ 2204,  3295,  3835,  2485,  6023,  2586,  2675,  2502,  4606,\n",
       "          2779,     0,     0],\n",
       "        [ 3835,  5976,  3835,  2173,  2994,  2074, 24115,  3773,  3000,\n",
       "          2204,     0,     0],\n",
       "        [ 2307,  3309,  3866,  3309,  3295,  3819,  3095,  2307,  5791,\n",
       "          2994,     0,     0],\n",
       "        [ 7729,  2293,  2686, 23775, 12726, 18772,  9467,  2307,  6891,\n",
       "          7729,     0,     0],\n",
       "        [ 2204,  3601,  3835,  3309,  2488, 23308,  4770,  3835,  3543,\n",
       "          3340,     0,     0],\n",
       "        [ 2307,  2173,  2994,  3407,  2994,  5410,  7922,  2245,  2307,\n",
       "          3643,     0,     0],\n",
       "        [ 6919,  2994,  4734,  4550,  2307,  2326,  2312,  2177,  2253,\n",
       "          2393,     0,     0],\n",
       "        [ 6919,  6625,  3309,  3059,  4364,  2628,  6229, 19089,  2587,\n",
       "          2356,     0,     0],\n",
       "        [ 2204,  3295,  3309,  2284,  3576,  3291,  2282, 10395, 13364,\n",
       "          3208,     0,     0],\n",
       "        [ 4669,  3295, 10382,  3288,  5116, 14057,  3835,  3095,  4550,\n",
       "          3309,     0,     0],\n",
       "        [18678,  2015, 12476,  3376,  3309,  5286,  3509,  2307,  3095,\n",
       "          2833,  3295,     0],\n",
       "        [ 2307,  2103, 15481, 15481,  3432,  6919,  3295, 10392,  3309,\n",
       "          4550,  5224,     0],\n",
       "        [ 2307,  2173,  2360,  2025,  2056,  2307,  3309,  2307,  3095,\n",
       "          6581,  3295,     0],\n",
       "        [ 3835,  3309,  2954,  2282,  2204,  3193,  3193,  2282,  2633,\n",
       "          2288,  2333,     0],\n",
       "        [ 4474,  3309,  2095,  2904, 11446,  4734,  2640, 19851,  2613,\n",
       "          2100,  4527,     0],\n",
       "        [ 4550,  3309,  2012,  6528,  6024, 18066,  3095, 15579,  4770,\n",
       "          2717,  2187,     0],\n",
       "        [ 2307,  2173,  5247,  2305,  2559,  2282,  2793,  3332, 13912,\n",
       "          9381,  2282,     0],\n",
       "        [ 2204,  3309,  2204,  4550,  2047,  7390,  3788,  3292,  6005,\n",
       "          7545, 16755,     0],\n",
       "        [ 3110, 22673,  2225,  2378,  8085,  4012, 12031,  2793,  5627,\n",
       "          3477,  7216,     0],\n",
       "        [ 3309,  1012,  3309,  3509,  1012,  3376, 10434,  2015,  2235,\n",
       "          3509,  2181,     0],\n",
       "        [ 3819,  8052,  2173,  2215,  4550,  4012, 12031,  4734,  2307,\n",
       "          3295,  7537,     0],\n",
       "        [ 3866,  3309,  2307,  3309,  6581,  3295,  3835,  2833,  2449,\n",
       "          4440,  5632,  2617],\n",
       "        [ 5432,  6176,  6595,  2173,  3309,  5039,  2111,  2173,  3715,\n",
       "          2154,  2025,  5039],\n",
       "        [ 2053, 10821,  2284,  3309,  2564,  7537,  3737,  2326,  7216,\n",
       "          2282,  2224,  3309],\n",
       "        [27377,  2064,  2050,  2985,  6429,  2420,  3309,  3835,  3367,\n",
       "          7001,  4440,  5293],\n",
       "        [ 3376,  2173,  3733, 20114,  3095,  3239,  2769,  3509,  4929,\n",
       "          6197,  3103,  3898],\n",
       "        [ 6429,  2793,  2190,  2793,  2253,  2126,  2624,  3799,  3516,\n",
       "          2074, 18996,  5669]], dtype=int32)>,\n",
       " <tf.Tensor: shape=(32,), dtype=int32, numpy=\n",
       " array([1, 1, 1, 1, 1, 1, 1, 1, 1, 1, 1, 1, 1, 1, 1, 1, 1, 1, 1, 1, 1, 1,\n",
       "        1, 1, 1, 1, 1, 0, 1, 1, 1, 1], dtype=int32)>)"
      ]
     },
     "execution_count": 35,
     "metadata": {},
     "output_type": "execute_result"
    }
   ],
   "source": [
    "next(iter(all_batched))"
   ]
  },
  {
   "cell_type": "code",
   "execution_count": 36,
   "id": "b2e109ba",
   "metadata": {
    "execution": {
     "iopub.execute_input": "2021-11-29T16:46:53.493684Z",
     "iopub.status.busy": "2021-11-29T16:46:53.492747Z",
     "iopub.status.idle": "2021-11-29T16:46:53.498979Z",
     "shell.execute_reply": "2021-11-29T16:46:53.498564Z",
     "shell.execute_reply.started": "2021-11-29T16:39:22.902256Z"
    },
    "papermill": {
     "duration": 0.07383,
     "end_time": "2021-11-29T16:46:53.499103",
     "exception": false,
     "start_time": "2021-11-29T16:46:53.425273",
     "status": "completed"
    },
    "tags": []
   },
   "outputs": [
    {
     "data": {
      "text/plain": [
       "20490"
      ]
     },
     "execution_count": 36,
     "metadata": {},
     "output_type": "execute_result"
    }
   ],
   "source": [
    "len(sorted_all)"
   ]
  },
  {
   "cell_type": "code",
   "execution_count": 37,
   "id": "a4d39dcb",
   "metadata": {
    "execution": {
     "iopub.execute_input": "2021-11-29T16:46:53.633335Z",
     "iopub.status.busy": "2021-11-29T16:46:53.632638Z",
     "iopub.status.idle": "2021-11-29T16:46:53.635339Z",
     "shell.execute_reply": "2021-11-29T16:46:53.635782Z",
     "shell.execute_reply.started": "2021-11-29T16:39:22.909411Z"
    },
    "papermill": {
     "duration": 0.072387,
     "end_time": "2021-11-29T16:46:53.635908",
     "exception": false,
     "start_time": "2021-11-29T16:46:53.563521",
     "status": "completed"
    },
    "tags": []
   },
   "outputs": [
    {
     "data": {
      "text/plain": [
       "640"
      ]
     },
     "execution_count": 37,
     "metadata": {},
     "output_type": "execute_result"
    }
   ],
   "source": [
    "NB_BATCHES = len(sorted_all) // BATCH_SIZE\n",
    "NB_BATCHES"
   ]
  },
  {
   "cell_type": "code",
   "execution_count": 38,
   "id": "10a14a51",
   "metadata": {
    "execution": {
     "iopub.execute_input": "2021-11-29T16:46:53.771219Z",
     "iopub.status.busy": "2021-11-29T16:46:53.770276Z",
     "iopub.status.idle": "2021-11-29T16:46:53.774935Z",
     "shell.execute_reply": "2021-11-29T16:46:53.774421Z",
     "shell.execute_reply.started": "2021-11-29T16:39:22.918628Z"
    },
    "papermill": {
     "duration": 0.074498,
     "end_time": "2021-11-29T16:46:53.775052",
     "exception": false,
     "start_time": "2021-11-29T16:46:53.700554",
     "status": "completed"
    },
    "tags": []
   },
   "outputs": [
    {
     "data": {
      "text/plain": [
       "64"
      ]
     },
     "execution_count": 38,
     "metadata": {},
     "output_type": "execute_result"
    }
   ],
   "source": [
    "NB_BATCHES_TEST = NB_BATCHES // 10\n",
    "NB_BATCHES_TEST"
   ]
  },
  {
   "cell_type": "code",
   "execution_count": 39,
   "id": "321748d0",
   "metadata": {
    "execution": {
     "iopub.execute_input": "2021-11-29T16:46:53.916280Z",
     "iopub.status.busy": "2021-11-29T16:46:53.915740Z",
     "iopub.status.idle": "2021-11-29T16:46:53.922156Z",
     "shell.execute_reply": "2021-11-29T16:46:53.921725Z",
     "shell.execute_reply.started": "2021-11-29T16:39:22.927071Z"
    },
    "papermill": {
     "duration": 0.076399,
     "end_time": "2021-11-29T16:46:53.922268",
     "exception": false,
     "start_time": "2021-11-29T16:46:53.845869",
     "status": "completed"
    },
    "tags": []
   },
   "outputs": [],
   "source": [
    "all_batched.shuffle(NB_BATCHES)\n",
    "test_dataset = all_batched.take(NB_BATCHES_TEST)\n",
    "train_dataset = all_batched.skip(NB_BATCHES_TEST)"
   ]
  },
  {
   "cell_type": "code",
   "execution_count": 40,
   "id": "cb170bf3",
   "metadata": {
    "execution": {
     "iopub.execute_input": "2021-11-29T16:46:54.056520Z",
     "iopub.status.busy": "2021-11-29T16:46:54.055694Z",
     "iopub.status.idle": "2021-11-29T16:46:54.088029Z",
     "shell.execute_reply": "2021-11-29T16:46:54.088477Z",
     "shell.execute_reply.started": "2021-11-29T16:39:22.936888Z"
    },
    "papermill": {
     "duration": 0.101619,
     "end_time": "2021-11-29T16:46:54.088621",
     "exception": false,
     "start_time": "2021-11-29T16:46:53.987002",
     "status": "completed"
    },
    "tags": []
   },
   "outputs": [
    {
     "data": {
      "text/plain": [
       "(<tf.Tensor: shape=(32, 12), dtype=int32, numpy=\n",
       " array([[ 3835,  3309,  3193,  2117,  2282,  2282,  2187,  5216,     0,\n",
       "             0,     0,     0],\n",
       "        [ 3314,  1050,  1056,  2360,  2732,  2326,  2307,  4770,  3347,\n",
       "             0,     0,     0],\n",
       "        [11519,  2173,  2994,  3976,  2793,  2157,  5723,  4098,  4084,\n",
       "             0,     0,     0],\n",
       "        [ 5580,  4370,  2307,  3325,  2994,  2051,  4084, 14271, 10356,\n",
       "             0,     0,     0],\n",
       "        [ 2193,  3309,  2193,  5464,  3819,  2126,  2190,  6350,  2088,\n",
       "             0,     0,     0],\n",
       "        [ 2204,  3295,  3835,  2485,  6023,  2586,  2675,  2502,  4606,\n",
       "          2779,     0,     0],\n",
       "        [ 3835,  5976,  3835,  2173,  2994,  2074, 24115,  3773,  3000,\n",
       "          2204,     0,     0],\n",
       "        [ 2307,  3309,  3866,  3309,  3295,  3819,  3095,  2307,  5791,\n",
       "          2994,     0,     0],\n",
       "        [ 7729,  2293,  2686, 23775, 12726, 18772,  9467,  2307,  6891,\n",
       "          7729,     0,     0],\n",
       "        [ 2204,  3601,  3835,  3309,  2488, 23308,  4770,  3835,  3543,\n",
       "          3340,     0,     0],\n",
       "        [ 2307,  2173,  2994,  3407,  2994,  5410,  7922,  2245,  2307,\n",
       "          3643,     0,     0],\n",
       "        [ 6919,  2994,  4734,  4550,  2307,  2326,  2312,  2177,  2253,\n",
       "          2393,     0,     0],\n",
       "        [ 6919,  6625,  3309,  3059,  4364,  2628,  6229, 19089,  2587,\n",
       "          2356,     0,     0],\n",
       "        [ 2204,  3295,  3309,  2284,  3576,  3291,  2282, 10395, 13364,\n",
       "          3208,     0,     0],\n",
       "        [ 4669,  3295, 10382,  3288,  5116, 14057,  3835,  3095,  4550,\n",
       "          3309,     0,     0],\n",
       "        [18678,  2015, 12476,  3376,  3309,  5286,  3509,  2307,  3095,\n",
       "          2833,  3295,     0],\n",
       "        [ 2307,  2103, 15481, 15481,  3432,  6919,  3295, 10392,  3309,\n",
       "          4550,  5224,     0],\n",
       "        [ 2307,  2173,  2360,  2025,  2056,  2307,  3309,  2307,  3095,\n",
       "          6581,  3295,     0],\n",
       "        [ 3835,  3309,  2954,  2282,  2204,  3193,  3193,  2282,  2633,\n",
       "          2288,  2333,     0],\n",
       "        [ 4474,  3309,  2095,  2904, 11446,  4734,  2640, 19851,  2613,\n",
       "          2100,  4527,     0],\n",
       "        [ 4550,  3309,  2012,  6528,  6024, 18066,  3095, 15579,  4770,\n",
       "          2717,  2187,     0],\n",
       "        [ 2307,  2173,  5247,  2305,  2559,  2282,  2793,  3332, 13912,\n",
       "          9381,  2282,     0],\n",
       "        [ 2204,  3309,  2204,  4550,  2047,  7390,  3788,  3292,  6005,\n",
       "          7545, 16755,     0],\n",
       "        [ 3110, 22673,  2225,  2378,  8085,  4012, 12031,  2793,  5627,\n",
       "          3477,  7216,     0],\n",
       "        [ 3309,  1012,  3309,  3509,  1012,  3376, 10434,  2015,  2235,\n",
       "          3509,  2181,     0],\n",
       "        [ 3819,  8052,  2173,  2215,  4550,  4012, 12031,  4734,  2307,\n",
       "          3295,  7537,     0],\n",
       "        [ 3866,  3309,  2307,  3309,  6581,  3295,  3835,  2833,  2449,\n",
       "          4440,  5632,  2617],\n",
       "        [ 5432,  6176,  6595,  2173,  3309,  5039,  2111,  2173,  3715,\n",
       "          2154,  2025,  5039],\n",
       "        [ 2053, 10821,  2284,  3309,  2564,  7537,  3737,  2326,  7216,\n",
       "          2282,  2224,  3309],\n",
       "        [27377,  2064,  2050,  2985,  6429,  2420,  3309,  3835,  3367,\n",
       "          7001,  4440,  5293],\n",
       "        [ 3376,  2173,  3733, 20114,  3095,  3239,  2769,  3509,  4929,\n",
       "          6197,  3103,  3898],\n",
       "        [ 6429,  2793,  2190,  2793,  2253,  2126,  2624,  3799,  3516,\n",
       "          2074, 18996,  5669]], dtype=int32)>,\n",
       " <tf.Tensor: shape=(32,), dtype=int32, numpy=\n",
       " array([1, 1, 1, 1, 1, 1, 1, 1, 1, 1, 1, 1, 1, 1, 1, 1, 1, 1, 1, 1, 1, 1,\n",
       "        1, 1, 1, 1, 1, 0, 1, 1, 1, 1], dtype=int32)>)"
      ]
     },
     "execution_count": 40,
     "metadata": {},
     "output_type": "execute_result"
    }
   ],
   "source": [
    "next(iter(test_dataset))"
   ]
  },
  {
   "cell_type": "code",
   "execution_count": 41,
   "id": "0c74eda3",
   "metadata": {
    "execution": {
     "iopub.execute_input": "2021-11-29T16:46:54.225434Z",
     "iopub.status.busy": "2021-11-29T16:46:54.224660Z",
     "iopub.status.idle": "2021-11-29T16:46:54.565606Z",
     "shell.execute_reply": "2021-11-29T16:46:54.566284Z",
     "shell.execute_reply.started": "2021-11-29T16:39:22.978268Z"
    },
    "papermill": {
     "duration": 0.411441,
     "end_time": "2021-11-29T16:46:54.566444",
     "exception": false,
     "start_time": "2021-11-29T16:46:54.155003",
     "status": "completed"
    },
    "tags": []
   },
   "outputs": [
    {
     "data": {
      "text/plain": [
       "(<tf.Tensor: shape=(32, 36), dtype=int32, numpy=\n",
       " array([[ 2204,  3295,  3937, ...,  2734,  2460,  2994],\n",
       "        [ 8235,  3309,  3811, ...,  1056,  3524,  2994],\n",
       "        [ 9202, 22452,  3309, ...,  1996,  5101, 25135],\n",
       "        ...,\n",
       "        [ 3835,  2181,  7091, ...,  2015,  7144,  2015],\n",
       "        [ 3309, 11463,  2050, ..., 14044,  5791,  2994],\n",
       "        [ 2994,  2307,  3309, ..., 11848,  2854,  2095]], dtype=int32)>,\n",
       " <tf.Tensor: shape=(32,), dtype=int32, numpy=\n",
       " array([1, 1, 0, 1, 1, 1, 0, 1, 1, 1, 1, 1, 1, 1, 1, 1, 1, 0, 1, 1, 1, 1,\n",
       "        1, 1, 1, 1, 1, 1, 1, 1, 1, 1], dtype=int32)>)"
      ]
     },
     "execution_count": 41,
     "metadata": {},
     "output_type": "execute_result"
    }
   ],
   "source": [
    "next(iter(train_dataset))"
   ]
  },
  {
   "cell_type": "markdown",
   "id": "10140acb",
   "metadata": {
    "papermill": {
     "duration": 0.065533,
     "end_time": "2021-11-29T16:46:54.698564",
     "exception": false,
     "start_time": "2021-11-29T16:46:54.633031",
     "status": "completed"
    },
    "tags": []
   },
   "source": [
    "# Model building"
   ]
  },
  {
   "cell_type": "code",
   "execution_count": 42,
   "id": "54601b7b",
   "metadata": {
    "execution": {
     "iopub.execute_input": "2021-11-29T16:46:54.843507Z",
     "iopub.status.busy": "2021-11-29T16:46:54.841857Z",
     "iopub.status.idle": "2021-11-29T16:46:54.844097Z",
     "shell.execute_reply": "2021-11-29T16:46:54.844531Z",
     "shell.execute_reply.started": "2021-11-29T16:39:23.305121Z"
    },
    "papermill": {
     "duration": 0.080448,
     "end_time": "2021-11-29T16:46:54.844672",
     "exception": false,
     "start_time": "2021-11-29T16:46:54.764224",
     "status": "completed"
    },
    "tags": []
   },
   "outputs": [],
   "source": [
    "class DCNN(tf.keras.Model):\n",
    "\n",
    "  def __init__(self,\n",
    "               vocab_size,\n",
    "               emb_dim=128,\n",
    "               nb_filters = 50,\n",
    "               FFN_units=512,\n",
    "               nb_classes=2,\n",
    "               dropout_rate=0.1,\n",
    "               training=False,\n",
    "               name=\"dcnn\"):\n",
    "    super(DCNN, self).__init__(name=name)\n",
    "\n",
    "    self.embedding = layers.Embedding(vocab_size, emb_dim)\n",
    "\n",
    "    self.bigram = layers.Conv1D(filters = nb_filters,\n",
    "                                kernel_size = 2,\n",
    "                                padding='valid',\n",
    "                                activation='relu')\n",
    "    self.trigram = layers.Conv1D(filters = nb_filters,\n",
    "                                kernel_size = 3,\n",
    "                                padding='valid',\n",
    "                                activation='relu')\n",
    "    self.fourgram = layers.Conv1D(filters = nb_filters,\n",
    "                                kernel_size = 4,\n",
    "                                padding='valid',\n",
    "                                activation='relu')\n",
    "    \n",
    "    self.pool = layers.GlobalMaxPool1D()\n",
    "\n",
    "    self.dense_1 = layers.Dense(units = FFN_units, activation='relu')\n",
    "    self.dropout = layers.Dropout(rate=dropout_rate)\n",
    "    if nb_classes == 2:\n",
    "      self.last_dense = layers.Dense(units=1, activation='sigmoid')\n",
    "    else:\n",
    "      self.last_dense = layers.Dense(units=nb_classes, activation='softmax')\n",
    "\n",
    "  def call(self, inputs, training):\n",
    "    x = self.embedding(inputs)\n",
    "    x_1 = self.bigram(x)\n",
    "    x_1 = self.pool(x_1)\n",
    "    x_2 = self.trigram(x)\n",
    "    x_2 = self.pool(x_2)\n",
    "    x_3 = self.fourgram(x)\n",
    "    x_3 = self.pool(x_3)\n",
    "\n",
    "    merged = tf.concat([x_1, x_2, x_3], axis = -1)\n",
    "    merged = self.dense_1(merged)\n",
    "    merged = self.dropout(merged, training)\n",
    "    output = self.last_dense(merged)\n",
    "\n",
    "    return output"
   ]
  },
  {
   "cell_type": "markdown",
   "id": "fe7f6856",
   "metadata": {
    "papermill": {
     "duration": 0.065222,
     "end_time": "2021-11-29T16:46:54.975464",
     "exception": false,
     "start_time": "2021-11-29T16:46:54.910242",
     "status": "completed"
    },
    "tags": []
   },
   "source": [
    "# Training"
   ]
  },
  {
   "cell_type": "code",
   "execution_count": 43,
   "id": "2bd28796",
   "metadata": {
    "execution": {
     "iopub.execute_input": "2021-11-29T16:46:55.111845Z",
     "iopub.status.busy": "2021-11-29T16:46:55.111094Z",
     "iopub.status.idle": "2021-11-29T16:46:55.113160Z",
     "shell.execute_reply": "2021-11-29T16:46:55.113579Z",
     "shell.execute_reply.started": "2021-11-29T16:39:23.321192Z"
    },
    "papermill": {
     "duration": 0.072014,
     "end_time": "2021-11-29T16:46:55.113715",
     "exception": false,
     "start_time": "2021-11-29T16:46:55.041701",
     "status": "completed"
    },
    "tags": []
   },
   "outputs": [],
   "source": [
    "VOCAB_SIZE = len(tokenizer.vocab)\n",
    "EMB_DIM = 200\n",
    "NB_FILTERS = 100\n",
    "FFN_UNITS = 256\n",
    "NB_CLASSES = 2\n",
    "DROPOUT_RATE = 0.2\n",
    "NB_EPOCHS = 12"
   ]
  },
  {
   "cell_type": "code",
   "execution_count": 44,
   "id": "f213eaef",
   "metadata": {
    "execution": {
     "iopub.execute_input": "2021-11-29T16:46:55.250156Z",
     "iopub.status.busy": "2021-11-29T16:46:55.249573Z",
     "iopub.status.idle": "2021-11-29T16:46:55.268327Z",
     "shell.execute_reply": "2021-11-29T16:46:55.267916Z",
     "shell.execute_reply.started": "2021-11-29T16:39:23.330162Z"
    },
    "papermill": {
     "duration": 0.089574,
     "end_time": "2021-11-29T16:46:55.268438",
     "exception": false,
     "start_time": "2021-11-29T16:46:55.178864",
     "status": "completed"
    },
    "tags": []
   },
   "outputs": [],
   "source": [
    "Dcnn = DCNN(vocab_size=VOCAB_SIZE,\n",
    "            emb_dim=EMB_DIM,\n",
    "            nb_filters = NB_FILTERS,\n",
    "            FFN_units = FFN_UNITS,\n",
    "            nb_classes = NB_CLASSES,\n",
    "            dropout_rate = DROPOUT_RATE)"
   ]
  },
  {
   "cell_type": "code",
   "execution_count": 45,
   "id": "4ac233e6",
   "metadata": {
    "execution": {
     "iopub.execute_input": "2021-11-29T16:46:55.409270Z",
     "iopub.status.busy": "2021-11-29T16:46:55.408713Z",
     "iopub.status.idle": "2021-11-29T16:46:55.417021Z",
     "shell.execute_reply": "2021-11-29T16:46:55.416483Z",
     "shell.execute_reply.started": "2021-11-29T16:39:23.349964Z"
    },
    "papermill": {
     "duration": 0.082503,
     "end_time": "2021-11-29T16:46:55.417137",
     "exception": false,
     "start_time": "2021-11-29T16:46:55.334634",
     "status": "completed"
    },
    "tags": []
   },
   "outputs": [],
   "source": [
    "if NB_CLASSES == 2:\n",
    "  Dcnn.compile(loss='binary_crossentropy', optimizer='adam', metrics=['accuracy'])\n",
    "else:\n",
    "  Dcnn.compile(loss='sparse_categorical_crossentropy', optimizer='adam', metrics=['sparse_categorical_accuracy'])"
   ]
  },
  {
   "cell_type": "code",
   "execution_count": 46,
   "id": "df29916d",
   "metadata": {
    "execution": {
     "iopub.execute_input": "2021-11-29T16:46:55.554365Z",
     "iopub.status.busy": "2021-11-29T16:46:55.553549Z",
     "iopub.status.idle": "2021-11-29T16:48:58.199792Z",
     "shell.execute_reply": "2021-11-29T16:48:58.190639Z",
     "shell.execute_reply.started": "2021-11-29T16:39:23.364011Z"
    },
    "papermill": {
     "duration": 122.716816,
     "end_time": "2021-11-29T16:48:58.199984",
     "exception": false,
     "start_time": "2021-11-29T16:46:55.483168",
     "status": "completed"
    },
    "tags": []
   },
   "outputs": [
    {
     "name": "stdout",
     "output_type": "stream",
     "text": [
      "Epoch 1/12\n"
     ]
    },
    {
     "name": "stderr",
     "output_type": "stream",
     "text": [
      "2021-11-29 16:46:57.588834: I tensorflow/stream_executor/cuda/cuda_dnn.cc:369] Loaded cuDNN version 8005\n"
     ]
    },
    {
     "name": "stdout",
     "output_type": "stream",
     "text": [
      "577/577 [==============================] - 40s 57ms/step - loss: 0.1529 - accuracy: 0.9414\n",
      "Epoch 2/12\n",
      "577/577 [==============================] - 7s 12ms/step - loss: 0.0605 - accuracy: 0.9747\n",
      "Epoch 3/12\n",
      "577/577 [==============================] - 7s 12ms/step - loss: 0.0157 - accuracy: 0.9949\n",
      "Epoch 4/12\n",
      "577/577 [==============================] - 7s 12ms/step - loss: 0.0094 - accuracy: 0.9969\n",
      "Epoch 5/12\n",
      "577/577 [==============================] - 7s 11ms/step - loss: 0.0019 - accuracy: 0.9994\n",
      "Epoch 6/12\n",
      "577/577 [==============================] - 7s 12ms/step - loss: 5.8851e-04 - accuracy: 0.9998\n",
      "Epoch 7/12\n",
      "577/577 [==============================] - 8s 13ms/step - loss: 0.0024 - accuracy: 0.9992\n",
      "Epoch 8/12\n",
      "577/577 [==============================] - 7s 11ms/step - loss: 0.0036 - accuracy: 0.9987\n",
      "Epoch 9/12\n",
      "577/577 [==============================] - 7s 12ms/step - loss: 0.0085 - accuracy: 0.9973\n",
      "Epoch 10/12\n",
      "577/577 [==============================] - 7s 12ms/step - loss: 0.0056 - accuracy: 0.9977\n",
      "Epoch 11/12\n",
      "577/577 [==============================] - 7s 12ms/step - loss: 9.3508e-04 - accuracy: 0.9997\n",
      "Epoch 12/12\n",
      "577/577 [==============================] - 7s 12ms/step - loss: 2.2496e-04 - accuracy: 0.9999\n"
     ]
    }
   ],
   "source": [
    "history = Dcnn.fit(train_dataset,\n",
    "                   epochs=NB_EPOCHS)"
   ]
  },
  {
   "cell_type": "markdown",
   "id": "19683bd0",
   "metadata": {
    "papermill": {
     "duration": 0.480271,
     "end_time": "2021-11-29T16:48:59.164999",
     "exception": false,
     "start_time": "2021-11-29T16:48:58.684728",
     "status": "completed"
    },
    "tags": []
   },
   "source": [
    "# Evaluation"
   ]
  },
  {
   "cell_type": "code",
   "execution_count": 47,
   "id": "31f5ea5a",
   "metadata": {
    "execution": {
     "iopub.execute_input": "2021-11-29T16:49:00.133005Z",
     "iopub.status.busy": "2021-11-29T16:49:00.131382Z",
     "iopub.status.idle": "2021-11-29T16:49:00.135140Z",
     "shell.execute_reply": "2021-11-29T16:49:00.134679Z",
     "shell.execute_reply.started": "2021-11-29T16:40:55.639120Z"
    },
    "papermill": {
     "duration": 0.490632,
     "end_time": "2021-11-29T16:49:00.135253",
     "exception": false,
     "start_time": "2021-11-29T16:48:59.644621",
     "status": "completed"
    },
    "tags": []
   },
   "outputs": [
    {
     "data": {
      "text/plain": [
       "dict_keys(['loss', 'accuracy'])"
      ]
     },
     "execution_count": 47,
     "metadata": {},
     "output_type": "execute_result"
    }
   ],
   "source": [
    "history.history.keys()"
   ]
  },
  {
   "cell_type": "code",
   "execution_count": 48,
   "id": "def85091",
   "metadata": {
    "execution": {
     "iopub.execute_input": "2021-11-29T16:49:01.130202Z",
     "iopub.status.busy": "2021-11-29T16:49:01.128087Z",
     "iopub.status.idle": "2021-11-29T16:49:01.322662Z",
     "shell.execute_reply": "2021-11-29T16:49:01.322191Z",
     "shell.execute_reply.started": "2021-11-29T16:40:55.646718Z"
    },
    "papermill": {
     "duration": 0.708736,
     "end_time": "2021-11-29T16:49:01.322803",
     "exception": false,
     "start_time": "2021-11-29T16:49:00.614067",
     "status": "completed"
    },
    "tags": []
   },
   "outputs": [
    {
     "data": {
      "image/png": "[encoded data removed]",
      "text/plain": [
       "<Figure size 720x720 with 1 Axes>"
      ]
     },
     "metadata": {
      "needs_background": "light"
     },
     "output_type": "display_data"
    }
   ],
   "source": [
    "plt.plot(history.history['loss'])\n",
    "plt.title('Loss progress');"
   ]
  },
  {
   "cell_type": "code",
   "execution_count": 49,
   "id": "59dcb6a3",
   "metadata": {
    "execution": {
     "iopub.execute_input": "2021-11-29T16:49:02.614191Z",
     "iopub.status.busy": "2021-11-29T16:49:02.612561Z",
     "iopub.status.idle": "2021-11-29T16:49:02.824051Z",
     "shell.execute_reply": "2021-11-29T16:49:02.823531Z",
     "shell.execute_reply.started": "2021-11-29T16:40:55.867414Z"
    },
    "papermill": {
     "duration": 1.019023,
     "end_time": "2021-11-29T16:49:02.824187",
     "exception": false,
     "start_time": "2021-11-29T16:49:01.805164",
     "status": "completed"
    },
    "tags": []
   },
   "outputs": [
    {
     "data": {
      "image/png": "[encoded data removed]",
      "text/plain": [
       "<Figure size 720x720 with 1 Axes>"
      ]
     },
     "metadata": {
      "needs_background": "light"
     },
     "output_type": "display_data"
    }
   ],
   "source": [
    "plt.plot(history.history['accuracy'])\n",
    "plt.title('Accuracy progress');"
   ]
  },
  {
   "cell_type": "code",
   "execution_count": 50,
   "id": "37023798",
   "metadata": {
    "execution": {
     "iopub.execute_input": "2021-11-29T16:49:03.954671Z",
     "iopub.status.busy": "2021-11-29T16:49:03.953816Z",
     "iopub.status.idle": "2021-11-29T16:49:04.971288Z",
     "shell.execute_reply": "2021-11-29T16:49:04.970675Z",
     "shell.execute_reply.started": "2021-11-29T16:40:56.083307Z"
    },
    "papermill": {
     "duration": 1.59316,
     "end_time": "2021-11-29T16:49:04.971470",
     "exception": false,
     "start_time": "2021-11-29T16:49:03.378310",
     "status": "completed"
    },
    "tags": []
   },
   "outputs": [
    {
     "name": "stdout",
     "output_type": "stream",
     "text": [
      "64/64 [==============================] - 1s 13ms/step - loss: 0.2420 - accuracy: 0.9653\n",
      "[0.2419648915529251, 0.96533203125]\n"
     ]
    }
   ],
   "source": [
    "results = Dcnn.evaluate(test_dataset)\n",
    "print(results)"
   ]
  },
  {
   "cell_type": "code",
   "execution_count": 51,
   "id": "b7136218",
   "metadata": {
    "execution": {
     "iopub.execute_input": "2021-11-29T16:49:05.967307Z",
     "iopub.status.busy": "2021-11-29T16:49:05.966376Z",
     "iopub.status.idle": "2021-11-29T16:49:05.968190Z",
     "shell.execute_reply": "2021-11-29T16:49:05.968641Z",
     "shell.execute_reply.started": "2021-11-29T16:40:56.683420Z"
    },
    "papermill": {
     "duration": 0.510767,
     "end_time": "2021-11-29T16:49:05.968794",
     "exception": false,
     "start_time": "2021-11-29T16:49:05.458027",
     "status": "completed"
    },
    "tags": []
   },
   "outputs": [],
   "source": [
    "def get_prediction(sentence):\n",
    "  tokens = encode_sentence(sentence)\n",
    "  inputs = tf.expand_dims(tokens, 0)\n",
    "  output = Dcnn(inputs, training=False)\n",
    "  sentiment = math.floor(output*2)\n",
    "  if sentiment == 0:\n",
    "    print('negative')\n",
    "  elif sentiment == 1:\n",
    "    print('positive')"
   ]
  },
  {
   "cell_type": "code",
   "execution_count": 52,
   "id": "5c216b3b",
   "metadata": {
    "execution": {
     "iopub.execute_input": "2021-11-29T16:49:06.952632Z",
     "iopub.status.busy": "2021-11-29T16:49:06.951780Z",
     "iopub.status.idle": "2021-11-29T16:49:06.980625Z",
     "shell.execute_reply": "2021-11-29T16:49:06.981236Z",
     "shell.execute_reply.started": "2021-11-29T16:40:56.733239Z"
    },
    "papermill": {
     "duration": 0.524969,
     "end_time": "2021-11-29T16:49:06.981431",
     "exception": false,
     "start_time": "2021-11-29T16:49:06.456462",
     "status": "completed"
    },
    "tags": []
   },
   "outputs": [
    {
     "name": "stdout",
     "output_type": "stream",
     "text": [
      "positive\n"
     ]
    }
   ],
   "source": [
    "get_prediction('This movie was pretty interesting')"
   ]
  },
  {
   "cell_type": "code",
   "execution_count": 53,
   "id": "093072aa",
   "metadata": {
    "execution": {
     "iopub.execute_input": "2021-11-29T16:49:07.996241Z",
     "iopub.status.busy": "2021-11-29T16:49:07.995377Z",
     "iopub.status.idle": "2021-11-29T16:49:08.014645Z",
     "shell.execute_reply": "2021-11-29T16:49:08.015249Z",
     "shell.execute_reply.started": "2021-11-29T16:40:56.735160Z"
    },
    "papermill": {
     "duration": 0.518151,
     "end_time": "2021-11-29T16:49:08.015461",
     "exception": false,
     "start_time": "2021-11-29T16:49:07.497310",
     "status": "completed"
    },
    "tags": []
   },
   "outputs": [
    {
     "name": "stdout",
     "output_type": "stream",
     "text": [
      "negative\n"
     ]
    }
   ],
   "source": [
    "get_prediction(\"I'd rather not do that again\")"
   ]
  },
  {
   "cell_type": "code",
   "execution_count": 54,
   "id": "c7b9c501",
   "metadata": {
    "execution": {
     "iopub.execute_input": "2021-11-29T16:49:09.050986Z",
     "iopub.status.busy": "2021-11-29T16:49:09.050071Z",
     "iopub.status.idle": "2021-11-29T16:49:09.070241Z",
     "shell.execute_reply": "2021-11-29T16:49:09.069750Z",
     "shell.execute_reply.started": "2021-11-29T16:40:56.736821Z"
    },
    "papermill": {
     "duration": 0.567665,
     "end_time": "2021-11-29T16:49:09.070380",
     "exception": false,
     "start_time": "2021-11-29T16:49:08.502715",
     "status": "completed"
    },
    "tags": []
   },
   "outputs": [
    {
     "name": "stdout",
     "output_type": "stream",
     "text": [
      "negative\n"
     ]
    }
   ],
   "source": [
    "get_prediction(\"I don't like you\")"
   ]
  },
  {
   "cell_type": "markdown",
   "id": "440220b1",
   "metadata": {
    "papermill": {
     "duration": 0.494547,
     "end_time": "2021-11-29T16:49:10.053095",
     "exception": false,
     "start_time": "2021-11-29T16:49:09.558548",
     "status": "completed"
    },
    "tags": []
   },
   "source": [
    "# **If you find this notebook useful, support with an upvote** 👍"
   ]
  }
 ],
 "metadata": {
  "kernelspec": {
   "display_name": "Python 3",
   "language": "python",
   "name": "python3"
  },
  "language_info": {
   "codemirror_mode": {
    "name": "ipython",
    "version": 3
   },
   "file_extension": ".py",
   "mimetype": "text/x-python",
   "name": "python",
   "nbconvert_exporter": "python",
   "pygments_lexer": "ipython3",
   "version": "3.7.10"
  },
  "papermill": {
   "default_parameters": {},
   "duration": 285.691428,
   "end_time": "2021-11-29T16:49:13.699737",
   "environment_variables": {},
   "exception": null,
   "input_path": "__notebook__.ipynb",
   "output_path": "__notebook__.ipynb",
   "parameters": {},
   "start_time": "2021-11-29T16:44:28.008309",
   "version": "2.3.3"
  }
 },
 "nbformat": 4,
 "nbformat_minor": 5
}
